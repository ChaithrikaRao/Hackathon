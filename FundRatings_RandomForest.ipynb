{
 "cells": [
  {
   "cell_type": "code",
   "execution_count": 229,
   "metadata": {},
   "outputs": [],
   "source": [
    "#Importing all required libraries\n",
    "import pandas as pd\n",
    "import seaborn as sns\n",
    "import numpy as np\n",
    "import matplotlib.pyplot as plt\n",
    "from sklearn.decomposition import PCA"
   ]
  },
  {
   "cell_type": "code",
   "execution_count": 230,
   "metadata": {},
   "outputs": [
    {
     "name": "stderr",
     "output_type": "stream",
     "text": [
      "/Users/chai3/opt/anaconda3/lib/python3.7/site-packages/IPython/core/interactiveshell.py:3058: DtypeWarning: Columns (29,31,32,64,78,101) have mixed types. Specify dtype option on import or set low_memory=False.\n",
      "  interactivity=interactivity, compiler=compiler, result=result)\n"
     ]
    }
   ],
   "source": [
    "#Reading the data file\n",
    "FundRating=pd.read_csv('Rating.csv')"
   ]
  },
  {
   "cell_type": "code",
   "execution_count": 231,
   "metadata": {},
   "outputs": [
    {
     "data": {
      "text/html": [
       "<div>\n",
       "<style scoped>\n",
       "    .dataframe tbody tr th:only-of-type {\n",
       "        vertical-align: middle;\n",
       "    }\n",
       "\n",
       "    .dataframe tbody tr th {\n",
       "        vertical-align: top;\n",
       "    }\n",
       "\n",
       "    .dataframe thead th {\n",
       "        text-align: right;\n",
       "    }\n",
       "</style>\n",
       "<table border=\"1\" class=\"dataframe\">\n",
       "  <thead>\n",
       "    <tr style=\"text-align: right;\">\n",
       "      <th></th>\n",
       "      <th>bb_rating</th>\n",
       "      <th>us_govt_bond_rating</th>\n",
       "      <th>below_b_rating</th>\n",
       "      <th>others_rating</th>\n",
       "      <th>maturity_bond</th>\n",
       "      <th>b_rating</th>\n",
       "      <th>a_rating</th>\n",
       "      <th>aaa_rating</th>\n",
       "      <th>aa_rating</th>\n",
       "      <th>bbb_rating</th>\n",
       "      <th>...</th>\n",
       "      <th>10_years_beta_fund</th>\n",
       "      <th>10yrs_treynor_ratio_fund</th>\n",
       "      <th>10_years_return_mean_annual_category</th>\n",
       "      <th>10yrs_treynor_ratio_category</th>\n",
       "      <th>10_years_return_fund</th>\n",
       "      <th>10_years_alpha_category</th>\n",
       "      <th>10_years_beta_category</th>\n",
       "      <th>10years_category_std</th>\n",
       "      <th>10_years_return_mean_annual_fund</th>\n",
       "      <th>10_years_return_category</th>\n",
       "    </tr>\n",
       "  </thead>\n",
       "  <tbody>\n",
       "    <tr>\n",
       "      <td>0</td>\n",
       "      <td>0.00</td>\n",
       "      <td>0.0</td>\n",
       "      <td>0.00</td>\n",
       "      <td>0.00</td>\n",
       "      <td>NaN</td>\n",
       "      <td>0.00</td>\n",
       "      <td>0.00</td>\n",
       "      <td>0.00</td>\n",
       "      <td>0.00</td>\n",
       "      <td>0.00</td>\n",
       "      <td>...</td>\n",
       "      <td>NaN</td>\n",
       "      <td>NaN</td>\n",
       "      <td>0.01</td>\n",
       "      <td>0.21</td>\n",
       "      <td>0.00</td>\n",
       "      <td>0.06</td>\n",
       "      <td>0.01</td>\n",
       "      <td>0.13</td>\n",
       "      <td>NaN</td>\n",
       "      <td>14.30</td>\n",
       "    </tr>\n",
       "    <tr>\n",
       "      <td>1</td>\n",
       "      <td>0.00</td>\n",
       "      <td>0.0</td>\n",
       "      <td>0.00</td>\n",
       "      <td>0.00</td>\n",
       "      <td>NaN</td>\n",
       "      <td>0.00</td>\n",
       "      <td>0.00</td>\n",
       "      <td>0.00</td>\n",
       "      <td>0.00</td>\n",
       "      <td>0.00</td>\n",
       "      <td>...</td>\n",
       "      <td>1.08</td>\n",
       "      <td>15.57</td>\n",
       "      <td>0.01</td>\n",
       "      <td>0.15</td>\n",
       "      <td>17.25</td>\n",
       "      <td>-0.01</td>\n",
       "      <td>0.01</td>\n",
       "      <td>0.14</td>\n",
       "      <td>1.42</td>\n",
       "      <td>15.94</td>\n",
       "    </tr>\n",
       "    <tr>\n",
       "      <td>2</td>\n",
       "      <td>0.00</td>\n",
       "      <td>0.0</td>\n",
       "      <td>0.00</td>\n",
       "      <td>0.00</td>\n",
       "      <td>NaN</td>\n",
       "      <td>0.00</td>\n",
       "      <td>0.00</td>\n",
       "      <td>0.00</td>\n",
       "      <td>0.00</td>\n",
       "      <td>0.00</td>\n",
       "      <td>...</td>\n",
       "      <td>0.95</td>\n",
       "      <td>16.58</td>\n",
       "      <td>0.01</td>\n",
       "      <td>0.15</td>\n",
       "      <td>16.21</td>\n",
       "      <td>-0.01</td>\n",
       "      <td>0.01</td>\n",
       "      <td>0.14</td>\n",
       "      <td>1.33</td>\n",
       "      <td>15.94</td>\n",
       "    </tr>\n",
       "    <tr>\n",
       "      <td>3</td>\n",
       "      <td>0.00</td>\n",
       "      <td>0.0</td>\n",
       "      <td>0.00</td>\n",
       "      <td>0.00</td>\n",
       "      <td>NaN</td>\n",
       "      <td>0.00</td>\n",
       "      <td>0.00</td>\n",
       "      <td>0.00</td>\n",
       "      <td>0.00</td>\n",
       "      <td>0.00</td>\n",
       "      <td>...</td>\n",
       "      <td>0.84</td>\n",
       "      <td>16.38</td>\n",
       "      <td>0.01</td>\n",
       "      <td>0.14</td>\n",
       "      <td>14.12</td>\n",
       "      <td>-0.02</td>\n",
       "      <td>0.01</td>\n",
       "      <td>0.13</td>\n",
       "      <td>1.16</td>\n",
       "      <td>13.68</td>\n",
       "    </tr>\n",
       "    <tr>\n",
       "      <td>4</td>\n",
       "      <td>0.00</td>\n",
       "      <td>0.0</td>\n",
       "      <td>0.00</td>\n",
       "      <td>0.00</td>\n",
       "      <td>NaN</td>\n",
       "      <td>0.00</td>\n",
       "      <td>0.00</td>\n",
       "      <td>0.00</td>\n",
       "      <td>0.00</td>\n",
       "      <td>0.00</td>\n",
       "      <td>...</td>\n",
       "      <td>NaN</td>\n",
       "      <td>NaN</td>\n",
       "      <td>0.01</td>\n",
       "      <td>0.08</td>\n",
       "      <td>0.00</td>\n",
       "      <td>-0.02</td>\n",
       "      <td>0.01</td>\n",
       "      <td>0.12</td>\n",
       "      <td>NaN</td>\n",
       "      <td>11.53</td>\n",
       "    </tr>\n",
       "    <tr>\n",
       "      <td>5</td>\n",
       "      <td>0.00</td>\n",
       "      <td>0.0</td>\n",
       "      <td>0.00</td>\n",
       "      <td>0.00</td>\n",
       "      <td>NaN</td>\n",
       "      <td>0.00</td>\n",
       "      <td>0.00</td>\n",
       "      <td>0.00</td>\n",
       "      <td>0.00</td>\n",
       "      <td>0.00</td>\n",
       "      <td>...</td>\n",
       "      <td>1.22</td>\n",
       "      <td>8.44</td>\n",
       "      <td>0.01</td>\n",
       "      <td>0.09</td>\n",
       "      <td>10.77</td>\n",
       "      <td>0.00</td>\n",
       "      <td>0.01</td>\n",
       "      <td>0.10</td>\n",
       "      <td>0.91</td>\n",
       "      <td>11.07</td>\n",
       "    </tr>\n",
       "    <tr>\n",
       "      <td>6</td>\n",
       "      <td>17.94</td>\n",
       "      <td>0.0</td>\n",
       "      <td>0.78</td>\n",
       "      <td>10.04</td>\n",
       "      <td>NaN</td>\n",
       "      <td>21.07</td>\n",
       "      <td>8.53</td>\n",
       "      <td>7.44</td>\n",
       "      <td>1.64</td>\n",
       "      <td>32.55</td>\n",
       "      <td>...</td>\n",
       "      <td>0.49</td>\n",
       "      <td>7.08</td>\n",
       "      <td>0.00</td>\n",
       "      <td>0.06</td>\n",
       "      <td>3.90</td>\n",
       "      <td>-0.01</td>\n",
       "      <td>0.01</td>\n",
       "      <td>0.07</td>\n",
       "      <td>0.33</td>\n",
       "      <td>4.77</td>\n",
       "    </tr>\n",
       "    <tr>\n",
       "      <td>7</td>\n",
       "      <td>0.00</td>\n",
       "      <td>0.0</td>\n",
       "      <td>0.00</td>\n",
       "      <td>0.00</td>\n",
       "      <td>NaN</td>\n",
       "      <td>0.00</td>\n",
       "      <td>0.00</td>\n",
       "      <td>0.00</td>\n",
       "      <td>0.00</td>\n",
       "      <td>0.00</td>\n",
       "      <td>...</td>\n",
       "      <td>NaN</td>\n",
       "      <td>NaN</td>\n",
       "      <td>0.01</td>\n",
       "      <td>0.14</td>\n",
       "      <td>0.00</td>\n",
       "      <td>-0.02</td>\n",
       "      <td>0.01</td>\n",
       "      <td>0.13</td>\n",
       "      <td>NaN</td>\n",
       "      <td>13.68</td>\n",
       "    </tr>\n",
       "    <tr>\n",
       "      <td>8</td>\n",
       "      <td>0.00</td>\n",
       "      <td>0.0</td>\n",
       "      <td>0.00</td>\n",
       "      <td>0.00</td>\n",
       "      <td>NaN</td>\n",
       "      <td>0.00</td>\n",
       "      <td>0.00</td>\n",
       "      <td>0.00</td>\n",
       "      <td>0.00</td>\n",
       "      <td>0.00</td>\n",
       "      <td>...</td>\n",
       "      <td>0.91</td>\n",
       "      <td>-0.23</td>\n",
       "      <td>0.01</td>\n",
       "      <td>0.08</td>\n",
       "      <td>0.58</td>\n",
       "      <td>-0.01</td>\n",
       "      <td>0.01</td>\n",
       "      <td>0.16</td>\n",
       "      <td>0.19</td>\n",
       "      <td>8.08</td>\n",
       "    </tr>\n",
       "    <tr>\n",
       "      <td>9</td>\n",
       "      <td>1.78</td>\n",
       "      <td>0.0</td>\n",
       "      <td>0.17</td>\n",
       "      <td>5.86</td>\n",
       "      <td>7.34</td>\n",
       "      <td>1.35</td>\n",
       "      <td>8.40</td>\n",
       "      <td>63.07</td>\n",
       "      <td>3.90</td>\n",
       "      <td>15.47</td>\n",
       "      <td>...</td>\n",
       "      <td>0.90</td>\n",
       "      <td>11.14</td>\n",
       "      <td>0.01</td>\n",
       "      <td>-0.14</td>\n",
       "      <td>10.53</td>\n",
       "      <td>0.01</td>\n",
       "      <td>0.00</td>\n",
       "      <td>0.05</td>\n",
       "      <td>0.87</td>\n",
       "      <td>6.24</td>\n",
       "    </tr>\n",
       "  </tbody>\n",
       "</table>\n",
       "<p>10 rows × 126 columns</p>\n",
       "</div>"
      ],
      "text/plain": [
       "   bb_rating  us_govt_bond_rating  below_b_rating  others_rating  \\\n",
       "0       0.00                  0.0            0.00           0.00   \n",
       "1       0.00                  0.0            0.00           0.00   \n",
       "2       0.00                  0.0            0.00           0.00   \n",
       "3       0.00                  0.0            0.00           0.00   \n",
       "4       0.00                  0.0            0.00           0.00   \n",
       "5       0.00                  0.0            0.00           0.00   \n",
       "6      17.94                  0.0            0.78          10.04   \n",
       "7       0.00                  0.0            0.00           0.00   \n",
       "8       0.00                  0.0            0.00           0.00   \n",
       "9       1.78                  0.0            0.17           5.86   \n",
       "\n",
       "   maturity_bond  b_rating  a_rating  aaa_rating  aa_rating  bbb_rating  ...  \\\n",
       "0            NaN      0.00      0.00        0.00       0.00        0.00  ...   \n",
       "1            NaN      0.00      0.00        0.00       0.00        0.00  ...   \n",
       "2            NaN      0.00      0.00        0.00       0.00        0.00  ...   \n",
       "3            NaN      0.00      0.00        0.00       0.00        0.00  ...   \n",
       "4            NaN      0.00      0.00        0.00       0.00        0.00  ...   \n",
       "5            NaN      0.00      0.00        0.00       0.00        0.00  ...   \n",
       "6            NaN     21.07      8.53        7.44       1.64       32.55  ...   \n",
       "7            NaN      0.00      0.00        0.00       0.00        0.00  ...   \n",
       "8            NaN      0.00      0.00        0.00       0.00        0.00  ...   \n",
       "9           7.34      1.35      8.40       63.07       3.90       15.47  ...   \n",
       "\n",
       "   10_years_beta_fund  10yrs_treynor_ratio_fund  \\\n",
       "0                 NaN                       NaN   \n",
       "1                1.08                     15.57   \n",
       "2                0.95                     16.58   \n",
       "3                0.84                     16.38   \n",
       "4                 NaN                       NaN   \n",
       "5                1.22                      8.44   \n",
       "6                0.49                      7.08   \n",
       "7                 NaN                       NaN   \n",
       "8                0.91                     -0.23   \n",
       "9                0.90                     11.14   \n",
       "\n",
       "   10_years_return_mean_annual_category  10yrs_treynor_ratio_category  \\\n",
       "0                                  0.01                          0.21   \n",
       "1                                  0.01                          0.15   \n",
       "2                                  0.01                          0.15   \n",
       "3                                  0.01                          0.14   \n",
       "4                                  0.01                          0.08   \n",
       "5                                  0.01                          0.09   \n",
       "6                                  0.00                          0.06   \n",
       "7                                  0.01                          0.14   \n",
       "8                                  0.01                          0.08   \n",
       "9                                  0.01                         -0.14   \n",
       "\n",
       "   10_years_return_fund  10_years_alpha_category  10_years_beta_category  \\\n",
       "0                  0.00                     0.06                    0.01   \n",
       "1                 17.25                    -0.01                    0.01   \n",
       "2                 16.21                    -0.01                    0.01   \n",
       "3                 14.12                    -0.02                    0.01   \n",
       "4                  0.00                    -0.02                    0.01   \n",
       "5                 10.77                     0.00                    0.01   \n",
       "6                  3.90                    -0.01                    0.01   \n",
       "7                  0.00                    -0.02                    0.01   \n",
       "8                  0.58                    -0.01                    0.01   \n",
       "9                 10.53                     0.01                    0.00   \n",
       "\n",
       "   10years_category_std  10_years_return_mean_annual_fund  \\\n",
       "0                  0.13                               NaN   \n",
       "1                  0.14                              1.42   \n",
       "2                  0.14                              1.33   \n",
       "3                  0.13                              1.16   \n",
       "4                  0.12                               NaN   \n",
       "5                  0.10                              0.91   \n",
       "6                  0.07                              0.33   \n",
       "7                  0.13                               NaN   \n",
       "8                  0.16                              0.19   \n",
       "9                  0.05                              0.87   \n",
       "\n",
       "   10_years_return_category  \n",
       "0                     14.30  \n",
       "1                     15.94  \n",
       "2                     15.94  \n",
       "3                     13.68  \n",
       "4                     11.53  \n",
       "5                     11.07  \n",
       "6                      4.77  \n",
       "7                     13.68  \n",
       "8                      8.08  \n",
       "9                      6.24  \n",
       "\n",
       "[10 rows x 126 columns]"
      ]
     },
     "execution_count": 231,
     "metadata": {},
     "output_type": "execute_result"
    }
   ],
   "source": [
    "FundRating.head(10)\n",
    "#From below data, we can see that most of the values are numeric. We do have NAN values present in the data set\n",
    "#Let's analyze it further"
   ]
  },
  {
   "cell_type": "code",
   "execution_count": 232,
   "metadata": {},
   "outputs": [],
   "source": [
    "#Data pre-processing – Perform all the necessary pre-processing on the data ready to be fed to an Unsupervised algorithm "
   ]
  },
  {
   "cell_type": "code",
   "execution_count": 233,
   "metadata": {},
   "outputs": [
    {
     "name": "stdout",
     "output_type": "stream",
     "text": [
      "<class 'pandas.core.frame.DataFrame'>\n",
      "RangeIndex: 25000 entries, 0 to 24999\n",
      "Columns: 126 entries, bb_rating to 10_years_return_category\n",
      "dtypes: float64(109), int64(1), object(16)\n",
      "memory usage: 24.0+ MB\n"
     ]
    }
   ],
   "source": [
    "FundRating.info()\n",
    "#The data set has 846 rows and 19 columns, all are numeric except column 'class' which is of type object. \n",
    "#This indicates that there is categorical variable which needs to represented in numeric format.\n",
    "#From below data it is evident that not all 846 rows has values, some cells are empty "
   ]
  },
  {
   "cell_type": "code",
   "execution_count": 234,
   "metadata": {},
   "outputs": [
    {
     "data": {
      "text/html": [
       "<div>\n",
       "<style scoped>\n",
       "    .dataframe tbody tr th:only-of-type {\n",
       "        vertical-align: middle;\n",
       "    }\n",
       "\n",
       "    .dataframe tbody tr th {\n",
       "        vertical-align: top;\n",
       "    }\n",
       "\n",
       "    .dataframe thead th {\n",
       "        text-align: right;\n",
       "    }\n",
       "</style>\n",
       "<table border=\"1\" class=\"dataframe\">\n",
       "  <thead>\n",
       "    <tr style=\"text-align: right;\">\n",
       "      <th></th>\n",
       "      <th>count</th>\n",
       "      <th>mean</th>\n",
       "      <th>std</th>\n",
       "      <th>min</th>\n",
       "      <th>25%</th>\n",
       "      <th>50%</th>\n",
       "      <th>75%</th>\n",
       "      <th>max</th>\n",
       "    </tr>\n",
       "  </thead>\n",
       "  <tbody>\n",
       "    <tr>\n",
       "      <td>bb_rating</td>\n",
       "      <td>24886.0</td>\n",
       "      <td>3.473804</td>\n",
       "      <td>8.299747</td>\n",
       "      <td>0.00</td>\n",
       "      <td>0.00</td>\n",
       "      <td>0.00</td>\n",
       "      <td>2.45</td>\n",
       "      <td>80.47</td>\n",
       "    </tr>\n",
       "    <tr>\n",
       "      <td>us_govt_bond_rating</td>\n",
       "      <td>24886.0</td>\n",
       "      <td>0.000000</td>\n",
       "      <td>0.000000</td>\n",
       "      <td>0.00</td>\n",
       "      <td>0.00</td>\n",
       "      <td>0.00</td>\n",
       "      <td>0.00</td>\n",
       "      <td>0.00</td>\n",
       "    </tr>\n",
       "    <tr>\n",
       "      <td>below_b_rating</td>\n",
       "      <td>24886.0</td>\n",
       "      <td>0.827525</td>\n",
       "      <td>2.700019</td>\n",
       "      <td>-0.02</td>\n",
       "      <td>0.00</td>\n",
       "      <td>0.00</td>\n",
       "      <td>0.10</td>\n",
       "      <td>42.30</td>\n",
       "    </tr>\n",
       "    <tr>\n",
       "      <td>others_rating</td>\n",
       "      <td>24886.0</td>\n",
       "      <td>1.666769</td>\n",
       "      <td>6.885158</td>\n",
       "      <td>-68.21</td>\n",
       "      <td>0.00</td>\n",
       "      <td>0.00</td>\n",
       "      <td>0.33</td>\n",
       "      <td>100.00</td>\n",
       "    </tr>\n",
       "    <tr>\n",
       "      <td>maturity_bond</td>\n",
       "      <td>8093.0</td>\n",
       "      <td>7.765444</td>\n",
       "      <td>4.148558</td>\n",
       "      <td>0.00</td>\n",
       "      <td>5.46</td>\n",
       "      <td>7.29</td>\n",
       "      <td>8.92</td>\n",
       "      <td>29.30</td>\n",
       "    </tr>\n",
       "    <tr>\n",
       "      <td>...</td>\n",
       "      <td>...</td>\n",
       "      <td>...</td>\n",
       "      <td>...</td>\n",
       "      <td>...</td>\n",
       "      <td>...</td>\n",
       "      <td>...</td>\n",
       "      <td>...</td>\n",
       "      <td>...</td>\n",
       "    </tr>\n",
       "    <tr>\n",
       "      <td>10_years_alpha_category</td>\n",
       "      <td>24894.0</td>\n",
       "      <td>0.001136</td>\n",
       "      <td>0.027795</td>\n",
       "      <td>-0.11</td>\n",
       "      <td>-0.02</td>\n",
       "      <td>0.00</td>\n",
       "      <td>0.01</td>\n",
       "      <td>0.10</td>\n",
       "    </tr>\n",
       "    <tr>\n",
       "      <td>10_years_beta_category</td>\n",
       "      <td>24894.0</td>\n",
       "      <td>0.009076</td>\n",
       "      <td>0.005493</td>\n",
       "      <td>-0.02</td>\n",
       "      <td>0.01</td>\n",
       "      <td>0.01</td>\n",
       "      <td>0.01</td>\n",
       "      <td>0.12</td>\n",
       "    </tr>\n",
       "    <tr>\n",
       "      <td>10years_category_std</td>\n",
       "      <td>24894.0</td>\n",
       "      <td>0.109399</td>\n",
       "      <td>0.055202</td>\n",
       "      <td>0.00</td>\n",
       "      <td>0.06</td>\n",
       "      <td>0.12</td>\n",
       "      <td>0.15</td>\n",
       "      <td>0.34</td>\n",
       "    </tr>\n",
       "    <tr>\n",
       "      <td>10_years_return_mean_annual_fund</td>\n",
       "      <td>16416.0</td>\n",
       "      <td>0.858579</td>\n",
       "      <td>0.458993</td>\n",
       "      <td>-3.64</td>\n",
       "      <td>0.53</td>\n",
       "      <td>0.90</td>\n",
       "      <td>1.20</td>\n",
       "      <td>3.28</td>\n",
       "    </tr>\n",
       "    <tr>\n",
       "      <td>10_years_return_category</td>\n",
       "      <td>24885.0</td>\n",
       "      <td>9.679289</td>\n",
       "      <td>4.926417</td>\n",
       "      <td>-24.99</td>\n",
       "      <td>6.44</td>\n",
       "      <td>9.97</td>\n",
       "      <td>14.12</td>\n",
       "      <td>18.72</td>\n",
       "    </tr>\n",
       "  </tbody>\n",
       "</table>\n",
       "<p>110 rows × 8 columns</p>\n",
       "</div>"
      ],
      "text/plain": [
       "                                    count      mean       std    min   25%  \\\n",
       "bb_rating                         24886.0  3.473804  8.299747   0.00  0.00   \n",
       "us_govt_bond_rating               24886.0  0.000000  0.000000   0.00  0.00   \n",
       "below_b_rating                    24886.0  0.827525  2.700019  -0.02  0.00   \n",
       "others_rating                     24886.0  1.666769  6.885158 -68.21  0.00   \n",
       "maturity_bond                      8093.0  7.765444  4.148558   0.00  5.46   \n",
       "...                                   ...       ...       ...    ...   ...   \n",
       "10_years_alpha_category           24894.0  0.001136  0.027795  -0.11 -0.02   \n",
       "10_years_beta_category            24894.0  0.009076  0.005493  -0.02  0.01   \n",
       "10years_category_std              24894.0  0.109399  0.055202   0.00  0.06   \n",
       "10_years_return_mean_annual_fund  16416.0  0.858579  0.458993  -3.64  0.53   \n",
       "10_years_return_category          24885.0  9.679289  4.926417 -24.99  6.44   \n",
       "\n",
       "                                   50%    75%     max  \n",
       "bb_rating                         0.00   2.45   80.47  \n",
       "us_govt_bond_rating               0.00   0.00    0.00  \n",
       "below_b_rating                    0.00   0.10   42.30  \n",
       "others_rating                     0.00   0.33  100.00  \n",
       "maturity_bond                     7.29   8.92   29.30  \n",
       "...                                ...    ...     ...  \n",
       "10_years_alpha_category           0.00   0.01    0.10  \n",
       "10_years_beta_category            0.01   0.01    0.12  \n",
       "10years_category_std              0.12   0.15    0.34  \n",
       "10_years_return_mean_annual_fund  0.90   1.20    3.28  \n",
       "10_years_return_category          9.97  14.12   18.72  \n",
       "\n",
       "[110 rows x 8 columns]"
      ]
     },
     "execution_count": 234,
     "metadata": {},
     "output_type": "execute_result"
    }
   ],
   "source": [
    "FundRating.describe().transpose()\n",
    "#Inference: From below data we can conclude that outlier values  and negetive values are present in data set."
   ]
  },
  {
   "cell_type": "code",
   "execution_count": 235,
   "metadata": {},
   "outputs": [],
   "source": [
    "FundRating=FundRating.replace(\",\", \"\",regex=True)\n",
    "FundRating=FundRating.replace(\">\", \"\",regex=True)\n",
    "FundRating=FundRating.replace(\"<\",\"\",regex=True)"
   ]
  },
  {
   "cell_type": "code",
   "execution_count": 236,
   "metadata": {},
   "outputs": [],
   "source": [
    "import numpy as np\n",
    "FundRating[\"pb_ratio\"]=np.where(FundRating[\"pb_ratio\"]>(5.085), (5.085), FundRating[\"pb_ratio\"])\n",
    "FundRating[\"pb_ratio\"]=np.where(FundRating[\"pb_ratio\"]<(-2.155), (-2.155), FundRating[\"pb_ratio\"])\n",
    "\n",
    "FundRating[\"fund_ratio_net_annual_expense\"]=np.where(FundRating[\"fund_ratio_net_annual_expense\"]>(2.52), (2.52), FundRating[\"fund_ratio_net_annual_expense\"])\n",
    "FundRating[\"fund_ratio_net_annual_expense\"]=np.where(FundRating[\"fund_ratio_net_annual_expense\"]<(-0.3600), (-0.3600), FundRating[\"fund_ratio_net_annual_expense\"])\n",
    "\n",
    "FundRating[\"portfolio_cyclical_consumer_allocation\"]=np.where(FundRating[\"portfolio_cyclical_consumer_allocation\"]>(33.0), (33.0), FundRating[\"portfolio_cyclical_consumer_allocation\"])\n",
    "FundRating[\"portfolio_cyclical_consumer_allocation\"]=np.where(FundRating[\"portfolio_cyclical_consumer_allocation\"]<(-19.799), (-19.799), FundRating[\"portfolio_cyclical_consumer_allocation\"])\n",
    "\n",
    "FundRating[\"portfolio_utils_allocation\"]=np.where(FundRating[\"portfolio_utils_allocation\"]>(8.35), (8.35), FundRating[\"portfolio_utils_allocation\"])\n",
    "FundRating[\"portfolio_utils_allocation\"]=np.where(FundRating[\"portfolio_utils_allocation\"]<(-5.01), (-5.01), FundRating[\"portfolio_utils_allocation\"])\n",
    "\n",
    "FundRating[\"portfolio_property_allocation\"]=np.where(FundRating[\"portfolio_property_allocation\"]>(11.08125), (11.08125), FundRating[\"portfolio_property_allocation\"])\n",
    "FundRating[\"portfolio_property_allocation\"]=np.where(FundRating[\"portfolio_property_allocation\"]<(-6.6487), (-6.6487), FundRating[\"portfolio_property_allocation\"])\n",
    "\n",
    "FundRating[\"portfolio_healthcare_allocation\"]=np.where(FundRating[\"portfolio_healthcare_allocation\"]>(33.875), (33.875), FundRating[\"portfolio_healthcare_allocation\"])\n",
    "FundRating[\"portfolio_healthcare_allocation\"]=np.where(FundRating[\"portfolio_healthcare_allocation\"]<(-20.3250), (-20.3250), FundRating[\"portfolio_healthcare_allocation\"])\n",
    "\n",
    "FundRating[\"portfolio_consumer_defence_allocation\"]=np.where(FundRating[\"portfolio_consumer_defence_allocation\"]>(19.675), (19.675), FundRating[\"portfolio_consumer_defence_allocation\"])\n",
    "FundRating[\"portfolio_consumer_defence_allocation\"]=np.where(FundRating[\"portfolio_consumer_defence_allocation\"]<(-11.805), (-11.805), FundRating[\"portfolio_consumer_defence_allocation\"])\n",
    "\n",
    "FundRating[\"portfolio_energy_allocation\"]=np.where(FundRating[\"portfolio_energy_allocation\"]>(15.5562), (15.5562), FundRating[\"portfolio_energy_allocation\"])\n",
    "FundRating[\"portfolio_energy_allocation\"]=np.where(FundRating[\"portfolio_energy_allocation\"]<(-9.3337), (-9.3337), FundRating[\"portfolio_energy_allocation\"])\n",
    "\n",
    "FundRating[\"portfolio_materials_basic_allocation\"]=np.where(FundRating[\"portfolio_materials_basic_allocation\"]>(12.625), (12.625), FundRating[\"portfolio_materials_basic_allocation\"])\n",
    "FundRating[\"portfolio_materials_basic_allocation\"]=np.where(FundRating[\"portfolio_materials_basic_allocation\"]<(-7.5749), (-7.5749), FundRating[\"portfolio_materials_basic_allocation\"])\n",
    "\n",
    "FundRating[\"portfolio_tech_allocation\"]=np.where(FundRating[\"portfolio_tech_allocation\"]>(48.97499), (48.97499), FundRating[\"portfolio_tech_allocation\"])\n",
    "FundRating[\"portfolio_tech_allocation\"]=np.where(FundRating[\"portfolio_tech_allocation\"]<(-29.3849), (-29.3849), FundRating[\"portfolio_tech_allocation\"])\n",
    "\n",
    "FundRating[\"portfolio_industrials_allocation\"]=np.where(FundRating[\"portfolio_industrials_allocation\"]>(31.825), (31.825), FundRating[\"portfolio_industrials_allocation\"])\n",
    "FundRating[\"portfolio_industrials_allocation\"]=np.where(FundRating[\"portfolio_industrials_allocation\"]<(-19.095), (-19.095), FundRating[\"portfolio_industrials_allocation\"])\n",
    "\n",
    "FundRating[\"portfolio_financial_services\"]=np.where(FundRating[\"portfolio_financial_services\"]>(44.75), (44.75), FundRating[\"portfolio_financial_services\"])\n",
    "FundRating[\"portfolio_financial_services\"]=np.where(FundRating[\"portfolio_financial_services\"]<(-26.8499), (-26.8499), FundRating[\"portfolio_financial_services\"])\n",
    "\n",
    "FundRating[\"portfolio_communication_allocation\"]=np.where(FundRating[\"portfolio_communication_allocation\"]>(8.5), (8.5), FundRating[\"portfolio_communication_allocation\"])\n",
    "FundRating[\"portfolio_communication_allocation\"]=np.where(FundRating[\"portfolio_communication_allocation\"]<(-5.1), (-5.1), FundRating[\"portfolio_communication_allocation\"])\n",
    "    \n",
    "FundRating[\"duration_bond\"]=np.where(FundRating[\"duration_bond\"]>(4.8), (4.8), FundRating[\"duration_bond\"])\n",
    "FundRating[\"duration_bond\"]=np.where(FundRating[\"duration_bond\"]<(4.8), (4.8), FundRating[\"duration_bond\"])\n",
    "\n",
    "FundRating[\"bbb_rating\"]=np.where(FundRating[\"bbb_rating\"]>(28.3499), (28.3499), FundRating[\"bbb_rating\"])\n",
    "FundRating[\"bbb_rating\"]=np.where(FundRating[\"bbb_rating\"]<(-17.009), (-17.009), FundRating[\"bbb_rating\"])\n",
    "\n",
    "FundRating[\"aa_rating\"]=np.where(FundRating[\"aa_rating\"]>(7.4750), (7.4750), FundRating[\"aa_rating\"])\n",
    "FundRating[\"aa_rating\"]=np.where(FundRating[\"aa_rating\"]<(-4.485), (-4.485), FundRating[\"aa_rating\"])\n",
    "\n",
    "FundRating[\"aaa_rating\"]=np.where(FundRating[\"aaa_rating\"]>(46.0500), (46.0500), FundRating[\"aaa_rating\"])\n",
    "FundRating[\"aaa_rating\"]=np.where(FundRating[\"aaa_rating\"]<(-27.6300), (-27.6300), FundRating[\"aaa_rating\"])\n",
    "\n",
    "FundRating[\"a_rating\"]=np.where(FundRating[\"a_rating\"]>(20.6937), (20.6937), FundRating[\"a_rating\"])\n",
    "FundRating[\"a_rating\"]=np.where(FundRating[\"a_rating\"]<(-12.4162), (-12.4162), FundRating[\"a_rating\"])\n",
    "\n",
    "FundRating[\"maturity_bond\"]=np.where(FundRating[\"maturity_bond\"]>(7.29), (7.29), FundRating[\"maturity_bond\"])\n",
    "FundRating[\"maturity_bond\"]=np.where(FundRating[\"maturity_bond\"]<(7.29), (7.29), FundRating[\"maturity_bond\"])\n",
    "\n",
    "FundRating[\"others_rating\"]=np.where(FundRating[\"others_rating\"]>(0.8), (0.8), FundRating[\"others_rating\"])\n",
    "FundRating[\"others_rating\"]=np.where(FundRating[\"others_rating\"]<(-0.48), (-0.48), FundRating[\"others_rating\"])\n",
    "\n",
    "FundRating[\"2013_return_fund\"]=np.where(FundRating[\"2013_return_fund\"]>(47.7037), (47.7037), FundRating[\"2013_return_fund\"])\n",
    "FundRating[\"2013_return_fund\"]=np.where(FundRating[\"2013_return_fund\"]<(-13.1862), (-13.1862), FundRating[\"2013_return_fund\"])\n",
    "\n",
    "FundRating[\"fund_return_3months\"]=np.where(FundRating[\"fund_return_3months\"]>(26.2000), (26.2000), FundRating[\"fund_return_3months\"])\n",
    "FundRating[\"fund_return_3months\"]=np.where(FundRating[\"fund_return_3months\"]<(-9.0), (-9.0), FundRating[\"fund_return_3months\"])\n",
    "\n",
    "FundRating[\"ytd_return_category\"]=np.where(FundRating[\"ytd_return_category\"]>(24.82), (24.82), FundRating[\"ytd_return_category\"])\n",
    "FundRating[\"ytd_return_category\"]=np.where(FundRating[\"ytd_return_category\"]<(-6.8599), (-6.8599), FundRating[\"ytd_return_category\"])\n",
    "\n",
    "FundRating[\"2017_category_return\"]=np.where(FundRating[\"2017_category_return\"]>(44.045), (44.045), FundRating[\"2017_category_return\"])\n",
    "FundRating[\"2017_category_return\"]=np.where(FundRating[\"2017_category_return\"]<(-16.0750), (-16.0750), FundRating[\"2017_category_return\"])\n",
    "\n",
    "FundRating[\"1_year_return_fund\"]=np.where(FundRating[\"1_year_return_fund\"]>(12.795), (12.795), FundRating[\"1_year_return_fund\"])\n",
    "FundRating[\"1_year_return_fund\"]=np.where(FundRating[\"1_year_return_fund\"]<(-7.7250), (-7.7250), FundRating[\"1_year_return_fund\"])\n",
    "\n",
    "FundRating[\"2015_return_fund\"]=np.where(FundRating[\"2015_return_fund\"]>(4.79), (4.79), FundRating[\"2015_return_fund\"])\n",
    "FundRating[\"2015_return_fund\"]=np.where(FundRating[\"2015_return_fund\"]<(-7.21), (-7.21), FundRating[\"2015_return_fund\"])\n",
    "\n",
    "FundRating[\"portfolio_convertable\"]=np.where(FundRating[\"portfolio_convertable\"]>(0.1750), (0.1750), FundRating[\"portfolio_convertable\"])\n",
    "FundRating[\"portfolio_convertable\"]=np.where(FundRating[\"portfolio_convertable\"]<(-0.1050), (-0.1050), FundRating[\"portfolio_convertable\"])\n",
    "\n",
    "FundRating[\"3_months_return_category\"]=np.where(FundRating[\"3_months_return_category\"]>(24.82), (24.82), FundRating[\"3_months_return_category\"])\n",
    "FundRating[\"3_months_return_category\"]=np.where(FundRating[\"3_months_return_category\"]<(-6.8599), (-6.8599), FundRating[\"3_months_return_category\"])\n",
    "\n",
    "FundRating[\"portfolio_others\"]=np.where(FundRating[\"portfolio_others\"]>(0.7000), (0.7000), FundRating[\"portfolio_others\"])\n",
    "FundRating[\"portfolio_others\"]=np.where(FundRating[\"portfolio_others\"]<(-0.4200), (-0.4200), FundRating[\"portfolio_others\"])\n",
    "\n",
    "FundRating[\"2016_return_fund\"]=np.where(FundRating[\"2016_return_fund\"]>(19.7200), (19.7200), FundRating[\"2016_return_fund\"])\n",
    "FundRating[\"2016_return_fund\"]=np.where(FundRating[\"2016_return_fund\"]<(-7.160), (-7.160), FundRating[\"2016_return_fund\"])\n",
    "\n",
    "FundRating[\"stock_percent_of_portfolio\"]=np.where(FundRating[\"stock_percent_of_portfolio\"]>(243.11), (243.11), FundRating[\"stock_percent_of_portfolio\"])\n",
    "FundRating[\"stock_percent_of_portfolio\"]=np.where(FundRating[\"stock_percent_of_portfolio\"]<(-144.95), (-144.95), FundRating[\"stock_percent_of_portfolio\"])\n",
    "\n",
    "FundRating[\"2016_return_category\"]=np.where(FundRating[\"2016_return_category\"]>(18.28), (18.28), FundRating[\"2016_return_category\"])\n",
    "FundRating[\"2016_return_category\"]=np.where(FundRating[\"2016_return_category\"]<(-5.7999), (-5.7999), FundRating[\"2016_return_category\"])\n",
    "\n",
    "FundRating[\"2011_return_fund\"]=np.where(FundRating[\"2011_return_fund\"]>(2.945), (2.945), FundRating[\"2011_return_fund\"])\n",
    "FundRating[\"2011_return_fund\"]=np.where(FundRating[\"2011_return_fund\"]<(-4.055), (-4.055), FundRating[\"2011_return_fund\"])\n",
    "\n",
    "FundRating[\"2010_return_fund\"]=np.where(FundRating[\"2010_return_fund\"]>(13.5962), (13.5962), FundRating[\"2010_return_fund\"])\n",
    "FundRating[\"2010_return_fund\"]=np.where(FundRating[\"2010_return_fund\"]<(12.6), (12.6), FundRating[\"2010_return_fund\"])\n",
    "\n",
    "FundRating[\"fund_return_3years\"]=np.where(FundRating[\"fund_return_3years\"]>(21.2299), (21.2299), FundRating[\"fund_return_3years\"])\n",
    "FundRating[\"fund_return_3years\"]=np.where(FundRating[\"fund_return_3years\"]<(-8.2099), (-8.2099), FundRating[\"fund_return_3years\"])\n",
    "\n",
    "FundRating[\"2012_fund_return\"]=np.where(FundRating[\"2012_fund_return\"]>(18.4049), (18.4049), FundRating[\"2012_fund_return\"])\n",
    "FundRating[\"2012_fund_return\"]=np.where(FundRating[\"2012_fund_return\"]<(8.5250), (8.5250), FundRating[\"2012_fund_return\"])\n",
    "\n",
    "FundRating[\"2018_return_fund\"]=np.where(FundRating[\"2018_return_fund\"]>(10.73), (10.73), FundRating[\"2018_return_fund\"])\n",
    "FundRating[\"2018_return_fund\"]=np.where(FundRating[\"2018_return_fund\"]<(-22.79), (-22.79), FundRating[\"2018_return_fund\"])\n",
    "\n",
    "FundRating[\"2017_return_fund\"]=np.where(FundRating[\"2017_return_fund\"]>(42.2237), (42.2237), FundRating[\"2017_return_fund\"])\n",
    "FundRating[\"2017_return_fund\"]=np.where(FundRating[\"2017_return_fund\"]<(-14.1062), (-14.1062), FundRating[\"2017_return_fund\"])\n",
    "\n",
    "FundRating[\"category_ratio_net_annual_expense\"]=np.where(FundRating[\"category_ratio_net_annual_expense\"]>(1.7349), (1.7349), FundRating[\"category_ratio_net_annual_expense\"])\n",
    "FundRating[\"category_ratio_net_annual_expense\"]=np.where(FundRating[\"category_ratio_net_annual_expense\"]<(0.2550), (0.2550), FundRating[\"category_ratio_net_annual_expense\"])\n",
    "\n",
    "FundRating[\"category_return_2015\"]=np.where(FundRating[\"category_return_2015\"]>(1.4950), (1.4950), FundRating[\"category_return_2015\"])\n",
    "FundRating[\"category_return_2015\"]=np.where(FundRating[\"category_return_2015\"]<(-5.025), (-5.025), FundRating[\"category_return_2015\"])\n",
    "\n",
    "FundRating[\"1_month_fund_return\"]=np.where(FundRating[\"1_month_fund_return\"]>(3.75), (3.75), FundRating[\"1_month_fund_return\"])\n",
    "FundRating[\"1_month_fund_return\"]=np.where(FundRating[\"1_month_fund_return\"]<(-1.69), (-1.69), FundRating[\"1_month_fund_return\"])\n",
    "\n",
    "FundRating[\"bond_percentage_of_porfolio\"]=np.where(FundRating[\"bond_percentage_of_porfolio\"]>(159.25), (159.25), FundRating[\"bond_percentage_of_porfolio\"])\n",
    "FundRating[\"bond_percentage_of_porfolio\"]=np.where(FundRating[\"bond_percentage_of_porfolio\"]<(-95.5500), (-95.5500), FundRating[\"bond_percentage_of_porfolio\"])\n",
    "\n",
    "FundRating[\"portfolio_preferred\"]=np.where(FundRating[\"portfolio_preferred\"]>(0.025), (0.025), FundRating[\"portfolio_preferred\"])\n",
    "FundRating[\"portfolio_preferred\"]=np.where(FundRating[\"portfolio_preferred\"]<(-0.015), (-0.015), FundRating[\"portfolio_preferred\"])\n",
    "\n",
    "FundRating[\"2010_return_category\"]=np.where(FundRating[\"2010_return_category\"]>(14.115), (14.115), FundRating[\"2010_return_category\"])\n",
    "FundRating[\"2010_return_category\"]=np.where(FundRating[\"2010_return_category\"]<(13.115), (13.115), FundRating[\"2010_return_category\"])\n",
    "\n",
    "FundRating[\"2013_category_return\"]=np.where(FundRating[\"2013_category_return\"]>(52.13), (52.13), FundRating[\"2013_category_return\"])\n",
    "FundRating[\"2013_category_return\"]=np.where(FundRating[\"2013_category_return\"]<(-19.71), (-19.71), FundRating[\"2013_category_return\"])\n",
    "\n",
    "FundRating[\"3_years_alpha_fund\"]=np.where(FundRating[\"3_years_alpha_fund\"]>(4.6599), (4.6599), FundRating[\"3_years_alpha_fund\"])\n",
    "FundRating[\"3_years_alpha_fund\"]=np.where(FundRating[\"3_years_alpha_fund\"]<(-5.8999), (-5.8999), FundRating[\"3_years_alpha_fund\"])\n",
    "\n",
    "FundRating[\"3years_category_std\"]=np.where(FundRating[\"3years_category_std\"]>(0.265), (0.265), FundRating[\"3years_category_std\"])\n",
    "FundRating[\"3years_category_std\"]=np.where(FundRating[\"3years_category_std\"]<(-0.095), (-0.095), FundRating[\"3years_category_std\"])\n",
    "\n",
    "FundRating[\"3yrs_sharpe_ratio_fund\"]=np.where(FundRating[\"3yrs_sharpe_ratio_fund\"]>(1.6849), (1.6849), FundRating[\"3yrs_sharpe_ratio_fund\"])\n",
    "FundRating[\"3yrs_sharpe_ratio_fund\"]=np.where(FundRating[\"3yrs_sharpe_ratio_fund\"]<(-0.2749), (-0.2749), FundRating[\"3yrs_sharpe_ratio_fund\"])\n",
    "\n",
    "FundRating[\"3yrs_treynor_ratio_category\"]=np.where(FundRating[\"3yrs_treynor_ratio_category\"]>(0.1750), (0.1750), FundRating[\"3yrs_treynor_ratio_category\"])\n",
    "FundRating[\"3yrs_treynor_ratio_category\"]=np.where(FundRating[\"3yrs_treynor_ratio_category\"]<(-0.0250), (-0.0250), FundRating[\"3yrs_treynor_ratio_category\"])\n",
    "\n",
    "FundRating[\"3_years_return_mean_annual_fund\"]=np.where(FundRating[\"3_years_return_mean_annual_fund\"]>(1.635), (1.635), FundRating[\"3_years_return_mean_annual_fund\"])\n",
    "FundRating[\"3_years_return_mean_annual_fund\"]=np.where(FundRating[\"3_years_return_mean_annual_fund\"]<(-0.405), (-0.405), FundRating[\"3_years_return_mean_annual_fund\"])\n",
    "\n",
    "FundRating[\"fund_beta_3years\"]=np.where(FundRating[\"fund_beta_3years\"]>(1.6150), (1.6150), FundRating[\"fund_beta_3years\"])\n",
    "FundRating[\"fund_beta_3years\"]=np.where(FundRating[\"fund_beta_3years\"]<(0.3), (0.3), FundRating[\"fund_beta_3years\"])\n",
    "\n",
    "FundRating[\"3years_fund_r_squared\"]=np.where(FundRating[\"3years_fund_r_squared\"]>(131.43), (131.43), FundRating[\"3years_fund_r_squared\"])\n",
    "FundRating[\"3years_fund_r_squared\"]=np.where(FundRating[\"3years_fund_r_squared\"]<(26.55), (26.55), FundRating[\"3years_fund_r_squared\"])\n",
    "\n",
    "FundRating[\"3years_fund_std\"]=np.where(FundRating[\"3years_fund_std\"]>(23.68), (23.68), FundRating[\"3years_fund_std\"])\n",
    "FundRating[\"3years_fund_std\"]=np.where(FundRating[\"3years_fund_std\"]<(-6.9599), (-6.9599), FundRating[\"3years_fund_std\"])\n",
    "\n",
    "FundRating[\"category_beta_3years\"]=np.where(FundRating[\"category_beta_3years\"]>(0.01), (0.01), FundRating[\"category_beta_3years\"])\n",
    "FundRating[\"category_beta_3years\"]=np.where(FundRating[\"category_beta_3years\"]<(0.01), (0.01), FundRating[\"category_beta_3years\"])\n",
    "\n",
    "FundRating[\"fund_return_3years\"]=np.where(FundRating[\"fund_return_3years\"]>(21.2299), (21.2299), FundRating[\"fund_return_3years\"])\n",
    "FundRating[\"fund_return_3years\"]=np.where(FundRating[\"fund_return_3years\"]<(-8.2099), (-8.2099), FundRating[\"fund_return_3years\"])\n",
    "\n",
    "FundRating[\"3_years_alpha_category\"]=np.where(FundRating[\"3_years_alpha_category\"]>(0.015), (0.015), FundRating[\"3_years_alpha_category\"])\n",
    "FundRating[\"3_years_alpha_category\"]=np.where(FundRating[\"3_years_alpha_category\"]<(-0.025), (-0.025), FundRating[\"3_years_alpha_category\"])\n",
    "\n",
    "FundRating[\"3_years_return_mean_annual_category\"]=np.where(FundRating[\"3_years_return_mean_annual_category\"]>(0.025), (0.025), FundRating[\"3_years_return_mean_annual_category\"])\n",
    "FundRating[\"3_years_return_mean_annual_category\"]=np.where(FundRating[\"3_years_return_mean_annual_category\"]<(-0.015), (-0.015), FundRating[\"3_years_return_mean_annual_category\"])\n",
    "\n",
    "FundRating[\"3yrs_sharpe_ratio_category\"]=np.where(FundRating[\"3yrs_sharpe_ratio_category\"]>(0.025), (0.025), FundRating[\"3yrs_sharpe_ratio_category\"])\n",
    "FundRating[\"3yrs_sharpe_ratio_category\"]=np.where(FundRating[\"3yrs_sharpe_ratio_category\"]<(-0.015), (-0.015), FundRating[\"3yrs_sharpe_ratio_category\"])\n",
    "\n",
    "FundRating[\"3years_category_r_squared\"]=np.where(FundRating[\"3years_category_r_squared\"]>(1.28), (1.28), FundRating[\"3years_category_r_squared\"])\n",
    "FundRating[\"3years_category_r_squared\"]=np.where(FundRating[\"3years_category_r_squared\"]<(0.24), (0.24), FundRating[\"3years_category_r_squared\"])\n",
    "\n",
    "FundRating[\"3_years_return_category\"]=np.where(FundRating[\"3_years_return_category\"]>(18.485), (18.485), FundRating[\"3_years_return_category\"])\n",
    "FundRating[\"3_years_return_category\"]=np.where(FundRating[\"3_years_return_category\"]<(-4.1149), (-4.1149), FundRating[\"3_years_return_category\"])\n",
    "\n",
    "FundRating[\"category_r_squared_5years\"]=np.where(FundRating[\"category_r_squared_5years\"]>(1.2650), (1.2650), FundRating[\"category_r_squared_5years\"])\n",
    "FundRating[\"category_r_squared_5years\"]=np.where(FundRating[\"category_r_squared_5years\"]<(0.265), (0.265), FundRating[\"category_r_squared_5years\"])\n",
    "\n",
    "FundRating[\"5yrs_sharpe_ratio_fund\"]=np.where(FundRating[\"5yrs_sharpe_ratio_fund\"]>(1.1549), (1.1549), FundRating[\"5yrs_sharpe_ratio_fund\"])\n",
    "FundRating[\"5yrs_sharpe_ratio_fund\"]=np.where(FundRating[\"5yrs_sharpe_ratio_fund\"]<(-0.08499), (-0.08499), FundRating[\"5yrs_sharpe_ratio_fund\"])\n",
    "\n",
    "FundRating[\"5years_fund_r_squared\"]=np.where(FundRating[\"5years_fund_r_squared\"]>(125.6749), (125.6749), FundRating[\"5years_fund_r_squared\"])\n",
    "FundRating[\"5years_fund_r_squared\"]=np.where(FundRating[\"5years_fund_r_squared\"]<(33.475), (33.475), FundRating[\"5years_fund_r_squared\"])\n",
    "\n",
    "FundRating[\"5years_fund_std\"]=np.where(FundRating[\"5years_fund_std\"]>(22.4837), (22.4837), FundRating[\"5years_fund_std\"])\n",
    "FundRating[\"5years_fund_std\"]=np.where(FundRating[\"5years_fund_std\"]<(-4.5662), (-4.5662), FundRating[\"5years_fund_std\"])\n",
    "\n",
    "FundRating[\"5yrs_sharpe_ratio_category\"]=np.where(FundRating[\"5yrs_sharpe_ratio_category\"]>(0.025), (0.025), FundRating[\"5yrs_sharpe_ratio_category\"])\n",
    "FundRating[\"5yrs_sharpe_ratio_category\"]=np.where(FundRating[\"5yrs_sharpe_ratio_category\"]<(-0.015), (-0.015), FundRating[\"5yrs_sharpe_ratio_category\"])\n",
    "\n",
    "FundRating[\"5_years_alpha_fund\"]=np.where(FundRating[\"5_years_alpha_fund\"]>(3.560), (3.560), FundRating[\"5_years_alpha_fund\"])\n",
    "FundRating[\"5_years_alpha_fund\"]=np.where(FundRating[\"5_years_alpha_fund\"]<(-4.84), (-4.84), FundRating[\"5_years_alpha_fund\"])\n",
    "\n",
    "FundRating[\"5_years_beta_fund\"]=np.where(FundRating[\"5_years_beta_fund\"]>(1.4150), (1.4150), FundRating[\"5_years_beta_fund\"])\n",
    "FundRating[\"5_years_beta_fund\"]=np.where(FundRating[\"5_years_beta_fund\"]<(0.5), (0.5), FundRating[\"5_years_beta_fund\"])\n",
    "\n",
    "FundRating[\"5_years_return_mean_annual_fund\"]=np.where(FundRating[\"5_years_return_mean_annual_fund\"]>(1.0599), (1.0599), FundRating[\"5_years_return_mean_annual_fund\"])\n",
    "FundRating[\"5_years_return_mean_annual_fund\"]=np.where(FundRating[\"5_years_return_mean_annual_fund\"]<(-0.2199), (-0.2199), FundRating[\"5_years_return_mean_annual_fund\"])\n",
    "\n",
    "FundRating[\"5_years_return_mean_annual_category\"]=np.where(FundRating[\"5_years_return_mean_annual_category\"]>(0.025), (0.025), FundRating[\"5_years_return_mean_annual_category\"])\n",
    "FundRating[\"5_years_return_mean_annual_category\"]=np.where(FundRating[\"5_years_return_mean_annual_category\"]<(-0.015), (-0.015), FundRating[\"5_years_return_mean_annual_category\"])\n",
    "\n",
    "FundRating[\"5yrs_treynor_ratio_category\"]=np.where(FundRating[\"5yrs_treynor_ratio_category\"]>(0.12), (0.12), FundRating[\"5yrs_treynor_ratio_category\"])\n",
    "FundRating[\"5yrs_treynor_ratio_category\"]=np.where(FundRating[\"5yrs_treynor_ratio_category\"]<(-0.0399), (-0.0399), FundRating[\"5yrs_treynor_ratio_category\"])\n",
    "\n",
    "FundRating[\"5_years_return_fund\"]=np.where(FundRating[\"5_years_return_fund\"]>(14.375), (14.375), FundRating[\"5_years_return_fund\"])\n",
    "FundRating[\"5_years_return_fund\"]=np.where(FundRating[\"5_years_return_fund\"]<(-6.625), (-6.625), FundRating[\"5_years_return_fund\"])\n",
    "\n",
    "FundRating[\"5_years_alpha_category\"]=np.where(FundRating[\"5_years_alpha_category\"]>(0.03), (0.03), FundRating[\"5_years_alpha_category\"])\n",
    "FundRating[\"5_years_alpha_category\"]=np.where(FundRating[\"5_years_alpha_category\"]<(-0.05), (-0.05), FundRating[\"5_years_alpha_category\"])\n",
    "\n",
    "FundRating[\"5_years_beta_category\"]=np.where(FundRating[\"5_years_beta_category\"]>(0.01), (0.01), FundRating[\"5_years_beta_category\"])\n",
    "FundRating[\"5_years_beta_category\"]=np.where(FundRating[\"5_years_beta_category\"]<(0.01), (0.01), FundRating[\"5_years_beta_category\"])\n",
    "\n",
    "FundRating[\"5years_category_std\"]=np.where(FundRating[\"5years_category_std\"]>(0.25), (0.25), FundRating[\"5years_category_std\"])\n",
    "FundRating[\"5years_category_std\"]=np.where(FundRating[\"5years_category_std\"]<(-0.0699), (-0.0699), FundRating[\"5years_category_std\"])\n",
    "\n",
    "FundRating[\"10years_fund_r_squared\"]=np.where(FundRating[\"10years_fund_r_squared\"]>(105.2350), (105.2350), FundRating[\"10years_fund_r_squared\"])\n",
    "FundRating[\"10years_fund_r_squared\"]=np.where(FundRating[\"10years_fund_r_squared\"]<(66), (66), FundRating[\"10years_fund_r_squared\"])\n",
    "\n",
    "FundRating[\"10yrs_sharpe_ratio_fund\"]=np.where(FundRating[\"10yrs_sharpe_ratio_fund\"]>(1.225), (1.225), FundRating[\"10yrs_sharpe_ratio_fund\"])\n",
    "FundRating[\"10yrs_sharpe_ratio_fund\"]=np.where(FundRating[\"10yrs_sharpe_ratio_fund\"]<(0.7050), (0.7050), FundRating[\"10yrs_sharpe_ratio_fund\"])\n",
    "\n",
    "FundRating[\"10_years_alpha_fund\"]=np.where(FundRating[\"10_years_alpha_fund\"]>(2.085), (2.085), FundRating[\"10_years_alpha_fund\"])\n",
    "FundRating[\"10_years_alpha_fund\"]=np.where(FundRating[\"10_years_alpha_fund\"]<(-2.675), (-2.675), FundRating[\"10_years_alpha_fund\"])\n",
    "\n",
    "FundRating[\"10years_fund_std\"]=np.where(FundRating[\"10years_fund_std\"]>(20.6299), (20.6299), FundRating[\"10years_fund_std\"])\n",
    "FundRating[\"10years_fund_std\"]=np.where(FundRating[\"10years_fund_std\"]<(3.2), (3.2), FundRating[\"10years_fund_std\"])\n",
    "\n",
    "FundRating[\"10yrs_sharpe_ratio_category\"]=np.where(FundRating[\"10yrs_sharpe_ratio_category\"]>(0.01), (0.01), FundRating[\"10yrs_sharpe_ratio_category\"])\n",
    "FundRating[\"10yrs_sharpe_ratio_category\"]=np.where(FundRating[\"10yrs_sharpe_ratio_category\"]<(0.01), (0.01), FundRating[\"10yrs_sharpe_ratio_category\"])\n",
    "\n",
    "FundRating[\"10_years_beta_fund\"]=np.where(FundRating[\"10_years_beta_fund\"]>(1.210), (1.210), FundRating[\"10_years_beta_fund\"])\n",
    "FundRating[\"10_years_beta_fund\"]=np.where(FundRating[\"10_years_beta_fund\"]<(0.8099), (0.8099), FundRating[\"10_years_beta_fund\"])\n",
    "\n",
    "FundRating[\"10_years_return_mean_annual_category\"]=np.where(FundRating[\"10_years_return_mean_annual_category\"]>(0.01), (0.01), FundRating[\"10_years_return_mean_annual_category\"])\n",
    "FundRating[\"10_years_return_mean_annual_category\"]=np.where(FundRating[\"10_years_return_mean_annual_category\"]<(0.01), (0.01), FundRating[\"10_years_return_mean_annual_category\"])\n",
    "\n",
    "FundRating[\"10yrs_treynor_ratio_category\"]=np.where(FundRating[\"10yrs_treynor_ratio_category\"]>(0.2450), (0.2450), FundRating[\"10yrs_treynor_ratio_category\"])\n",
    "FundRating[\"10yrs_treynor_ratio_category\"]=np.where(FundRating[\"10yrs_treynor_ratio_category\"]<(-0.035), (-0.035), FundRating[\"10yrs_treynor_ratio_category\"])\n",
    "\n",
    "FundRating[\"10_years_return_fund\"]=np.where(FundRating[\"10_years_return_fund\"]>(30.9), (30.9), FundRating[\"10_years_return_fund\"])\n",
    "FundRating[\"10_years_return_fund\"]=np.where(FundRating[\"10_years_return_fund\"]<(-18.54), (-18.54), FundRating[\"10_years_return_fund\"])\n",
    "\n",
    "FundRating[\"10_years_alpha_category\"]=np.where(FundRating[\"10_years_alpha_category\"]>(0.055), (0.055), FundRating[\"10_years_alpha_category\"])\n",
    "FundRating[\"10_years_alpha_category\"]=np.where(FundRating[\"10_years_alpha_category\"]<(-0.065), (-0.065), FundRating[\"10_years_alpha_category\"])\n",
    "\n",
    "\n",
    "FundRating[\"10_years_beta_category\"]=np.where(FundRating[\"10_years_beta_category\"]>(0.01), (0.01), FundRating[\"10_years_beta_category\"])\n",
    "FundRating[\"10_years_beta_category\"]=np.where(FundRating[\"10_years_beta_category\"]<(0.01), (0.01), FundRating[\"10_years_beta_category\"])\n",
    "\n",
    "FundRating[\"10years_category_std\"]=np.where(FundRating[\"10years_category_std\"]>(0.2850), (0.2850), FundRating[\"10years_category_std\"])\n",
    "FundRating[\"10years_category_std\"]=np.where(FundRating[\"10years_category_std\"]<(-0.0750), (-0.0750), FundRating[\"10years_category_std\"])\n",
    "\n",
    "FundRating[\"10_years_return_mean_annual_fund\"]=np.where(FundRating[\"10_years_return_mean_annual_fund\"]>(1.5250), (1.5250), FundRating[\"10_years_return_mean_annual_fund\"])\n",
    "FundRating[\"10_years_return_mean_annual_fund\"]=np.where(FundRating[\"10_years_return_mean_annual_fund\"]<(0.29), (0.29), FundRating[\"10_years_return_mean_annual_fund\"])\n",
    "\n",
    "FundRating[\"10_years_return_category\"]=np.where(FundRating[\"10_years_return_category\"]>(25.6399), (25.6399), FundRating[\"10_years_return_category\"])\n",
    "FundRating[\"10_years_return_category\"]=np.where(FundRating[\"10_years_return_category\"]<(-5.0799), (-5.0799), FundRating[\"10_years_return_category\"])\n",
    "\n",
    "FundRating[\"fund_return_3years.1\"]=np.where(FundRating[\"fund_return_3years.1\"]>(21.2299), (21.2299), FundRating[\"fund_return_3years.1\"])\n",
    "FundRating[\"fund_return_3years.1\"]=np.where(FundRating[\"fund_return_3years.1\"]<(-8.2099), (-8.2099), FundRating[\"fund_return_3years.1\"])\n",
    "\n",
    "FundRating[\"10years_category_r_squared\"]=np.where(FundRating[\"10years_category_r_squared\"]>(1.235), (1.235), FundRating[\"10years_category_r_squared\"])\n",
    "FundRating[\"10years_category_r_squared\"]=np.where(FundRating[\"10years_category_r_squared\"]<(0.4), (0.4), FundRating[\"10years_category_r_squared\"])\n",
    "\n",
    "FundRating[\"category_return_1month\"]=np.where(FundRating[\"category_return_1month\"]>(2.76), (2.76), FundRating[\"category_return_1month\"])\n",
    "FundRating[\"category_return_1month\"]=np.where(FundRating[\"category_return_1month\"]<(-0.9199), (-0.9199), FundRating[\"category_return_1month\"])\n",
    "\n",
    "FundRating[\"2014_return_fund\"]=np.where(FundRating[\"2014_return_fund\"]>(12.645), (12.645), FundRating[\"2014_return_fund\"])\n",
    "FundRating[\"2014_return_fund\"]=np.where(FundRating[\"2014_return_fund\"]<(-2.275), (-2.275), FundRating[\"2014_return_fund\"])\n",
    "\n",
    "FundRating[\"years_down\"]=np.where(FundRating[\"years_down\"]>(7.0), (7.0), FundRating[\"years_down\"])\n",
    "FundRating[\"years_down\"]=np.where(FundRating[\"years_down\"]<(-1.0), (-1.0), FundRating[\"years_down\"])\n",
    "\n",
    "\n",
    "FundRating[\"ytd_return_fund\"]=np.where(FundRating[\"ytd_return_fund\"]>(25.93), (25.93), FundRating[\"ytd_return_fund\"])\n",
    "FundRating[\"ytd_return_fund\"]=np.where(FundRating[\"ytd_return_fund\"]<(-8.39), (-8.39), FundRating[\"ytd_return_fund\"])\n",
    "\n",
    "FundRating[\"2011_return_category\"]=np.where(FundRating[\"2011_return_category\"]>(1.815), (1.815), FundRating[\"2011_return_category\"])\n",
    "FundRating[\"2011_return_category\"]=np.where(FundRating[\"2011_return_category\"]<(-5.025), (-5.025), FundRating[\"2011_return_category\"])\n",
    "\n",
    "FundRating[\"cash_percent_of_portfolio\"]=np.where(FundRating[\"cash_percent_of_portfolio\"]>(15.715), (15.715), FundRating[\"cash_percent_of_portfolio\"])\n",
    "FundRating[\"cash_percent_of_portfolio\"]=np.where(FundRating[\"cash_percent_of_portfolio\"]<(-7.445), (-7.445), FundRating[\"cash_percent_of_portfolio\"])\n",
    "\n",
    "FundRating[\"category_return_1year\"]=np.where(FundRating[\"category_return_1year\"]>(10.3099), (10.3099),FundRating[\"category_return_1year\"])\n",
    "FundRating[\"category_return_1year\"]=np.where(FundRating[\"category_return_1year\"]<(-5.1299), (-5.1299),FundRating[\"category_return_1year\"])\n",
    "\n",
    "FundRating[\"2018_return_category\"]=np.where(FundRating[\"2018_return_category\"]>(8.0950),(8.0950), FundRating[\"2018_return_category\"])\n",
    "FundRating[\"2018_return_category\"]=np.where(FundRating[\"2018_return_category\"]<(-19.0650),(-19.0650),FundRating[\"2018_return_category\"])\n",
    "\n",
    "FundRating[\"years_up\"]=np.where(FundRating[\"years_up\"]>(25.5), (25.5), FundRating[\"years_up\"])\n",
    "FundRating[\"years_up\"]=np.where(FundRating[\"years_up\"]<(-10.5), (-10.5), FundRating[\"years_up\"])\n",
    "\n",
    "\n",
    "FundRating[\"2012_return_category\"]=np.where(FundRating[\"2012_return_category\"]>(17.8550), (17.8550), FundRating[\"2012_return_category\"])\n",
    "FundRating[\"2012_return_category\"]=np.where(FundRating[\"2012_return_category\"]<(10.13), (10.14), FundRating[\"2012_return_category\"])\n",
    "\n",
    "FundRating[\"bb_rating\"]=np.where(FundRating[\"bb_rating\"]>(2.42), (6.05), FundRating[\"bb_rating\"])\n",
    "FundRating[\"bb_rating\"]=np.where(FundRating[\"bb_rating\"]<(-3.63), (-3.63), FundRating[\"bb_rating\"])\n",
    "\n",
    "FundRating[\"below_b_rating\"]=np.where(FundRating[\"below_b_rating\"]>(0.25),(0.25),FundRating[\"below_b_rating\"])\n",
    "FundRating[\"below_b_rating\"]=np.where(FundRating[\"below_b_rating\"]<(-0.1500), (-0.1500), FundRating[\"below_b_rating\"])\n",
    "\n",
    "FundRating[\"2014_category_return\"]=np.where(FundRating[\"2014_category_return\"]>(12.7399),(12.7399),FundRating[\"2014_category_return\"])\n",
    "FundRating[\"2014_category_return\"]=np.where(FundRating[\"2014_category_return\"]< (-3.1799), (-3.1799), FundRating[\"2014_category_return\"])\n",
    "\n",
    "FundRating[\"total_assets\"]=np.where(FundRating[\"total_assets\"]>(3908895000.0),(3908895000.0),FundRating[\"total_assets\"])\n",
    "FundRating[\"total_assets\"]=np.where(FundRating[\"total_assets\"]<(-2194825000.0), (-2194825000.0), FundRating[\"total_assets\"])\n",
    "\n",
    "FundRating[\"return_ytd\"]=np.where(FundRating[\"return_ytd\"]>(25.93),(25.93),FundRating['return_ytd'])\n",
    "FundRating[\"return_ytd\"]=np.where(FundRating[\"return_ytd\"]<(-8.39),(-8.39), FundRating['return_ytd'])\n",
    "\n",
    "FundRating[\"yield\"]=np.where(FundRating[\"yield\"]>(5.8800),(5.8800),FundRating['yield'])\n",
    "FundRating[\"yield\"]=np.where(FundRating[\"yield\"]<(-2.7600),(-2.7600), FundRating['yield'])"
   ]
  },
  {
   "cell_type": "code",
   "execution_count": 237,
   "metadata": {},
   "outputs": [
    {
     "data": {
      "text/plain": [
       "(True, bb_rating                             114\n",
       " us_govt_bond_rating                   114\n",
       " below_b_rating                        114\n",
       " others_rating                         114\n",
       " maturity_bond                       16907\n",
       "                                     ...  \n",
       " 10_years_alpha_category               106\n",
       " 10_years_beta_category                106\n",
       " 10years_category_std                  106\n",
       " 10_years_return_mean_annual_fund     8584\n",
       " 10_years_return_category              115\n",
       " Length: 126, dtype: int64)"
      ]
     },
     "execution_count": 237,
     "metadata": {},
     "output_type": "execute_result"
    }
   ],
   "source": [
    "# Checking the presence of missing values.\n",
    "FundRating.isnull().values.any(),FundRating.isnull().sum()"
   ]
  },
  {
   "cell_type": "code",
   "execution_count": null,
   "metadata": {},
   "outputs": [],
   "source": []
  },
  {
   "cell_type": "code",
   "execution_count": 238,
   "metadata": {},
   "outputs": [
    {
     "data": {
      "text/plain": [
       "<matplotlib.axes._subplots.AxesSubplot at 0x1a1f00c910>"
      ]
     },
     "execution_count": 238,
     "metadata": {},
     "output_type": "execute_result"
    },
    {
     "data": {
      "image/png": "[encoded data removed]",
      "text/plain": [
       "<Figure size 432x288 with 1 Axes>"
      ]
     },
     "metadata": {
      "needs_background": "light"
     },
     "output_type": "display_data"
    }
   ],
   "source": [
    "#Let's reconfirm the understanding with heatmap\n",
    "sns.heatmap(FundRating.isnull(),yticklabels=False,cbar=False,cmap='viridis')\n",
    "#From below graph, it is evident that values are missing (indicated by yellow bar)"
   ]
  },
  {
   "cell_type": "code",
   "execution_count": 239,
   "metadata": {},
   "outputs": [],
   "source": [
    "#Labelling the variable based on size of the vehicle\n",
    "cleanup_nums = { \"greatstone_rating\": {0:\"zero\", 1:\"one\" , 2:\"two\", 3:\"three\", 4: \"four\", 5:\"five\" }\n",
    "                \n",
    "               }\n",
    "#Replacing in the data set\n",
    "FundRating.replace(cleanup_nums, inplace=True)"
   ]
  },
  {
   "cell_type": "code",
   "execution_count": 240,
   "metadata": {},
   "outputs": [],
   "source": [
    "import pandas as pd\n",
    "import numpy as np\n",
    "\n",
    "from sklearn.base import TransformerMixin\n",
    "\n",
    "class DataFrameImputer(TransformerMixin):\n",
    "\n",
    "    def __init__(self):\n",
    "        \"\"\"Impute missing values.\n",
    "\n",
    "        Columns of dtype object are imputed with the most frequent value \n",
    "        in column.\n",
    "\n",
    "        Columns of other types are imputed with mean of column.\n",
    "\n",
    "        \"\"\"\n",
    "    def fit(self, FundRating, y=None):\n",
    "\n",
    "        self.fill = pd.Series([FundRating[c].value_counts().index[0]\n",
    "            if FundRating[c].dtype == np.dtype('O') else FundRating[c].median() for c in FundRating],\n",
    "            index=FundRating.columns)\n",
    "\n",
    "        return self\n",
    "\n",
    "    def transform(self, FundRating, y=None):\n",
    "        return FundRating.fillna(self.fill)\n",
    "    \n",
    "    \n",
    "    #X = pd.DataFrame(data)\n",
    "#xt = DataFrameImputer().fit_transform(FundRating)"
   ]
  },
  {
   "cell_type": "code",
   "execution_count": 241,
   "metadata": {},
   "outputs": [],
   "source": [
    "FundRating = DataFrameImputer().fit_transform(FundRating)"
   ]
  },
  {
   "cell_type": "code",
   "execution_count": 242,
   "metadata": {},
   "outputs": [
    {
     "data": {
      "text/plain": [
       "(False, False, Index([], dtype='object'))"
      ]
     },
     "execution_count": 242,
     "metadata": {},
     "output_type": "execute_result"
    }
   ],
   "source": [
    "FundRating.isnull().values.any(), FundRating.isna().values.any(), FundRating.columns[FundRating.isnull().any()]"
   ]
  },
  {
   "cell_type": "code",
   "execution_count": 243,
   "metadata": {},
   "outputs": [
    {
     "data": {
      "text/plain": [
       "<matplotlib.axes._subplots.AxesSubplot at 0x1a20730ad0>"
      ]
     },
     "execution_count": 243,
     "metadata": {},
     "output_type": "execute_result"
    },
    {
     "data": {
      "image/png": "[encoded data removed]",
      "text/plain": [
       "<Figure size 432x288 with 1 Axes>"
      ]
     },
     "metadata": {
      "needs_background": "light"
     },
     "output_type": "display_data"
    }
   ],
   "source": [
    "#Let's reconfirm the understanding with heatmap\n",
    "sns.heatmap(FundRating.isnull(),yticklabels=False,cbar=False,cmap='viridis')"
   ]
  },
  {
   "cell_type": "code",
   "execution_count": 244,
   "metadata": {},
   "outputs": [
    {
     "name": "stdout",
     "output_type": "stream",
     "text": [
      "<class 'pandas.core.frame.DataFrame'>\n",
      "RangeIndex: 25000 entries, 0 to 24999\n",
      "Columns: 108 entries, bb_rating to 10_years_return_category\n",
      "dtypes: float64(107), int64(1)\n",
      "memory usage: 20.6 MB\n"
     ]
    }
   ],
   "source": [
    "FundRating1=FundRating\n",
    "FundRating=FundRating.drop(['greatstone_rating','fund_size','investment_class','mmc','pc_ratio','pe_ratio','ps_ratio.1','return_ytd','10yrs_treynor_ratio_fund','5yrs_treynor_ratio_fund','3yrs_treynor_ratio_fund','ps_ratio','inception_date','fund_id','category','fund_name','currency','parent_company'],axis=1)\n",
    "#FundRating=FundRating.replace(\",\", \"\")\n",
    "FundRating.info()"
   ]
  },
  {
   "cell_type": "code",
   "execution_count": 245,
   "metadata": {},
   "outputs": [],
   "source": [
    "#Labelling the variable based on size of the vehicle\n",
    "cleanup_nums = { \"investment_class\": {\"Blend\":1, \"Growth\":2 ,\"Value\":3 },\n",
    "                \n",
    "                 \"fund_size\":  {\"Small\": 1, \"Medium\": 2 ,\"Large\":3 }\n",
    "                \n",
    "                #\"greatstone_rating\": {\"zero\":0, \"one\":1 , \"two\":2, \"three\":3, \"four\":4, \"five\":5 }\n",
    "               }\n",
    "#Replacing in the data set\n",
    "FundRating.replace(cleanup_nums, inplace=True)\n",
    "\n",
    "#FundRating['class'].unique()\n",
    "#Inference: Labelling and replacement is reflecting successfully"
   ]
  },
  {
   "cell_type": "code",
   "execution_count": 246,
   "metadata": {},
   "outputs": [
    {
     "name": "stdout",
     "output_type": "stream",
     "text": [
      "bb_rating\n",
      "us_govt_bond_rating\n",
      "below_b_rating\n",
      "others_rating\n",
      "maturity_bond\n",
      "b_rating\n",
      "a_rating\n",
      "aaa_rating\n",
      "aa_rating\n",
      "bbb_rating\n",
      "duration_bond\n",
      "portfolio_communication_allocation\n",
      "portfolio_financial_services\n",
      "portfolio_industrials_allocation\n",
      "portfolio_tech_allocation\n",
      "portfolio_materials_basic_allocation\n",
      "portfolio_energy_allocation\n",
      "portfolio_consumer_defence_allocation\n",
      "portfolio_healthcare_allocation\n",
      "portfolio_property_allocation\n",
      "id\n",
      "portfolio_utils_allocation\n",
      "portfolio_cyclical_consumer_allocation\n",
      "fund_ratio_net_annual_expense\n",
      "pb_ratio\n",
      "total_assets\n",
      "yield\n",
      "2014_category_return\n",
      "2012_return_category\n",
      "years_up\n",
      "2018_return_category\n",
      "category_return_1year\n",
      "cash_percent_of_portfolio\n",
      "2011_return_category\n",
      "ytd_return_fund\n",
      "years_down\n",
      "2014_return_fund\n",
      "category_return_1month\n",
      "2013_return_fund\n",
      "fund_return_3months\n",
      "ytd_return_category\n",
      "2017_category_return\n",
      "1_year_return_fund\n",
      "2015_return_fund\n",
      "portfolio_convertable\n",
      "3_months_return_category\n",
      "portfolio_others\n",
      "2016_return_fund\n",
      "stock_percent_of_portfolio\n",
      "2016_return_category\n",
      "2011_return_fund\n",
      "2010_return_fund\n",
      "fund_return_3years\n",
      "2012_fund_return\n",
      "2018_return_fund\n",
      "2017_return_fund\n",
      "category_ratio_net_annual_expense\n",
      "category_return_2015\n",
      "1_month_fund_return\n",
      "bond_percentage_of_porfolio\n",
      "portfolio_preferred\n",
      "2010_return_category\n",
      "2013_category_return\n",
      "3_years_alpha_fund\n",
      "3years_category_std\n",
      "3yrs_sharpe_ratio_fund\n",
      "3yrs_treynor_ratio_category\n",
      "3_years_return_mean_annual_fund\n",
      "fund_beta_3years\n",
      "3years_fund_r_squared\n",
      "3years_fund_std\n",
      "category_beta_3years\n",
      "fund_return_3years.1\n",
      "3_years_alpha_category\n",
      "3_years_return_mean_annual_category\n",
      "3yrs_sharpe_ratio_category\n",
      "3years_category_r_squared\n",
      "3_years_return_category\n",
      "category_r_squared_5years\n",
      "5yrs_sharpe_ratio_fund\n",
      "5_years_alpha_fund\n",
      "5years_fund_r_squared\n",
      "5years_fund_std\n",
      "5yrs_sharpe_ratio_category\n",
      "5_years_beta_fund\n",
      "5_years_return_mean_annual_fund\n",
      "5_years_return_mean_annual_category\n",
      "5yrs_treynor_ratio_category\n",
      "5_years_return_fund\n",
      "5_years_alpha_category\n",
      "5_years_beta_category\n",
      "5years_category_std\n",
      "5_years_return_category\n",
      "10years_category_r_squared\n",
      "10yrs_sharpe_ratio_fund\n",
      "10_years_alpha_fund\n",
      "10years_fund_r_squared\n",
      "10years_fund_std\n",
      "10yrs_sharpe_ratio_category\n",
      "10_years_beta_fund\n",
      "10_years_return_mean_annual_category\n",
      "10yrs_treynor_ratio_category\n",
      "10_years_return_fund\n",
      "10_years_alpha_category\n",
      "10_years_beta_category\n",
      "10years_category_std\n",
      "10_years_return_mean_annual_fund\n",
      "10_years_return_category\n"
     ]
    }
   ],
   "source": [
    "def replace_outlier(FundRating_in, col_name):\n",
    "    q1 = FundRating_in[col_name].quantile(0.25)\n",
    "    q3 = FundRating_in[col_name].quantile(0.75)\n",
    "    iqr = q3-q1 #Interquartile range\n",
    "    fence_low = q1-1.5*iqr\n",
    "    fence_high = q3+1.5*iqr\n",
    "    FundRating_in[col_name]=np.where((FundRating_in[col_name] < fence_low), FundRating_in[col_name].quantile(0.25), FundRating_in[col_name])\n",
    "    FundRating_in[col_name]=np.where((FundRating_in[col_name] > fence_high), FundRating_in[col_name].quantile(0.75), FundRating_in[col_name])\n",
    "    #     FundRating_in[col_name]=np.where(FundRating_in.loc[FundRating_in[col_name] > fence_high], FundRating_in[col_name].median(),FundRating_in[col_name])\n",
    "    #median=FundRating[col_name].median()\n",
    "    #FundRating_in[col_name] = np.where((FundRating_in[col_name] > fence_high) | (FundRating_in[col_name] < fence_low), median, FundRating_in[col_name])\n",
    "    return FundRating_in\n",
    "    \n",
    "df_columns = FundRating.columns\n",
    "for i in range(df_columns.size):\n",
    "    print(df_columns[i])\n",
    "    FundRating=replace_outlier(FundRating, df_columns[i])"
   ]
  },
  {
   "cell_type": "code",
   "execution_count": 247,
   "metadata": {},
   "outputs": [],
   "source": [
    "cleanup_nums = {\n",
    "                \"greatstone_rating\": {\"zero\":0, \"one\":1 , \"two\":2, \"three\":3, \"four\":4, \"five\":5 }\n",
    "               }\n",
    "#Replacing in the data set\n",
    "FundRating1.replace(cleanup_nums, inplace=True)"
   ]
  },
  {
   "cell_type": "code",
   "execution_count": 248,
   "metadata": {},
   "outputs": [],
   "source": [
    "# from sklearn.impute import KNNImputer\n",
    "#  #nan = np.nan\n",
    "# #>>> X = [[1, 2, nan], [3, 4, 3], [nan, 6, 5], [8, 8, 7]]\n",
    "# imputer = KNNImputer(n_neighbors=2, weights=\"uniform\")\n",
    "# imputer.fit_transform(FundRating)"
   ]
  },
  {
   "cell_type": "code",
   "execution_count": 249,
   "metadata": {},
   "outputs": [],
   "source": [
    "#Split the data into train and test \n",
    "#(Suggestion: specify “random state” if you are using train_test_split from Sklearn)"
   ]
  },
  {
   "cell_type": "code",
   "execution_count": 250,
   "metadata": {},
   "outputs": [
    {
     "data": {
      "text/plain": [
       "(15705    4\n",
       " 6016     3\n",
       " 24764    1\n",
       " 11962    2\n",
       " 15824    2\n",
       "         ..\n",
       " 13123    4\n",
       " 19648    0\n",
       " 9845     3\n",
       " 10799    2\n",
       " 2732     3\n",
       " Name: greatstone_rating, Length: 17500, dtype: int64, 14149    5\n",
       " 8946     5\n",
       " 22378    3\n",
       " 12162    3\n",
       " 4879     4\n",
       "         ..\n",
       " 3639     3\n",
       " 3338     2\n",
       " 10927    3\n",
       " 23669    3\n",
       " 6492     2\n",
       " Name: greatstone_rating, Length: 7500, dtype: int64)"
      ]
     },
     "execution_count": 250,
     "metadata": {},
     "output_type": "execute_result"
    }
   ],
   "source": [
    "#Split the data into train and test \n",
    "#(Suggestion: specify “random state” if you are using train_test_split from Sklearn)\n",
    "\n",
    "#Importing required libaries\n",
    "from sklearn.model_selection import train_test_split\n",
    "import os\n",
    "\n",
    "#Drop the target 'class' from data\n",
    "#x=FundRating.drop('greatstone_rating',axis=1)\n",
    "x=FundRating\n",
    "y=FundRating1['greatstone_rating']\n",
    "# Splitting the dataset into the Training set and Test set\n",
    "x_train,x_test,y_train,y_test=train_test_split(x,y,train_size=0.70,test_size=0.30,random_state=0)\n",
    "x_train,x_test\n",
    "y_train,y_test"
   ]
  },
  {
   "cell_type": "code",
   "execution_count": 251,
   "metadata": {},
   "outputs": [],
   "source": [
    "#Do data Scaling/Normalization if required\n",
    "#This is needed we have variables in different scale ex: scaled_variance.1 etc\n",
    "from sklearn.preprocessing import StandardScaler\n",
    "sc = StandardScaler()\n",
    "x_train= sc.fit_transform(x_train)\n",
    "x_test = sc.fit_transform(x_test)"
   ]
  },
  {
   "cell_type": "code",
   "execution_count": 252,
   "metadata": {},
   "outputs": [],
   "source": [
    "#Use PCA from Scikit learn, extract Principal Components that capture about 95% of the variance in the data"
   ]
  },
  {
   "cell_type": "code",
   "execution_count": 253,
   "metadata": {},
   "outputs": [],
   "source": [
    "# # generating the covariance matrix and the eigen values for the PCA analysis\n",
    "# cov_matrix = np.cov(x_train.T) # the relevanat covariance matrix\n",
    "# print('Covariance Matrix \\n%s', cov_matrix)\n",
    "\n",
    "# #generating the eigen values and the eigen vectors\n",
    "# e_vals, e_vecs = np.linalg.eig(cov_matrix)\n",
    "# print('Eigenvectors \\n%s' %e_vecs)"
   ]
  },
  {
   "cell_type": "code",
   "execution_count": 254,
   "metadata": {},
   "outputs": [],
   "source": [
    "# print('\\nEigenvalues \\n%s' %e_vals)"
   ]
  },
  {
   "cell_type": "code",
   "execution_count": 255,
   "metadata": {},
   "outputs": [],
   "source": [
    "# # \"cumulative variance explained\" analysis \n",
    "# tot = sum(e_vals)\n",
    "# var_exp = [( i /tot ) * 100 for i in sorted(e_vals, reverse=True)]\n",
    "# cum_var_exp = np.cumsum(var_exp)\n",
    "# print(\"Cumulative Variance Explained\", cum_var_exp)"
   ]
  },
  {
   "cell_type": "code",
   "execution_count": 256,
   "metadata": {},
   "outputs": [],
   "source": [
    "# # Plotting the variance expalained by the principal components and the cumulative variance explained.\n",
    "# plt.figure(figsize=(10 , 5))\n",
    "# plt.bar(range(1, e_vals.size + 1), var_exp, alpha = 0.5, align = 'center', label = 'Individual explained variance')\n",
    "# plt.step(range(1, e_vals.size + 1), cum_var_exp, where='mid', label = 'Cumulative explained variance')\n",
    "# plt.ylabel('Explained Variance Ratio')\n",
    "# plt.xlabel('Principal Components')\n",
    "# plt.legend(loc = 'best')\n",
    "# plt.tight_layout()\n",
    "# plt.show()\n",
    "\n",
    "# #Inference: From below graph we can learn that ~95% data variance can be captured \n",
    "# #when we take only ~ 60 variables from the original data set"
   ]
  },
  {
   "cell_type": "code",
   "execution_count": 257,
   "metadata": {},
   "outputs": [],
   "source": [
    "# #Proceeding with 6 components\n",
    "# pca_new = PCA(n_components=95)\n",
    "# #Fitting PCA into train data\n",
    "# pca_new.fit(x_train)\n",
    "# #Fitting PCA into test data\n",
    "# pca_new.fit(x_test)\n",
    "# print(pca_new.components_)\n",
    "# print(pca_new.explained_variance_ratio_)\n",
    "# Xpca_train_new = pca_new.transform(x_train)\n",
    "# Xpca_test_new = pca_new.transform(x_test)\n"
   ]
  },
  {
   "cell_type": "code",
   "execution_count": 258,
   "metadata": {},
   "outputs": [],
   "source": [
    "# print(\"original shape:   \", x_test.shape)\n",
    "# print(\"transformed shape:\", Xpca_test_new.shape)\n",
    "# #Inference: From below data it is evident that dimension of the data set is reduced from 18 to 6 \n",
    "# #(excluding target variable-class)"
   ]
  },
  {
   "cell_type": "code",
   "execution_count": 259,
   "metadata": {},
   "outputs": [],
   "source": [
    "#Repeat steps 3,4 and 5 but this time, use Principal Components instead of the original data. \n",
    "#And the accuracy score should be on the same rows of test data that were used earlier."
   ]
  },
  {
   "cell_type": "code",
   "execution_count": 260,
   "metadata": {},
   "outputs": [
    {
     "data": {
      "text/plain": [
       "(0.9552571428571428, 0.6476)"
      ]
     },
     "execution_count": 260,
     "metadata": {},
     "output_type": "execute_result"
    }
   ],
   "source": [
    "#Before PCA-RFC\n",
    "from sklearn.ensemble import RandomForestClassifier\n",
    "# param_dist = {\"n_estimators\":[55],\n",
    "#               \"max_depth\":[None],\n",
    "#               \"max_features\": sp_randint(40,45),\n",
    "#               \"min_samples_split\": [16],\n",
    "#               \"min_samples_leaf\": [5],\n",
    "#               \"bootstrap\": [True, False],\n",
    "#               \"criterion\": [ \"entropy\"]}\n",
    "#rfcl = RandomForestClassifier(n_estimators=55)\n",
    "rfcl = RandomForestClassifier(n_estimators=55,max_depth=None,max_features=44,min_samples_split=16,min_samples_leaf=5,bootstrap= False,criterion='entropy')\n",
    "#rfcl = RandomForestClassifier('bootstrap': False,'criterion':'entropy','max_depth': None,'max_features': 44,'min_samples_leaf': 5,'min_samples_split':16,'n_estimators':55)\n",
    "rfcl = rfcl.fit(x_train, y_train)\n",
    "rfcl.score(x_train, y_train), rfcl.score(x_test, y_test)"
   ]
  },
  {
   "cell_type": "code",
   "execution_count": 228,
   "metadata": {},
   "outputs": [
    {
     "ename": "ValueError",
     "evalue": "Input contains NaN, infinity or a value too large for dtype('float32').",
     "output_type": "error",
     "traceback": [
      "\u001b[0;31m---------------------------------------------------------------------------\u001b[0m",
      "\u001b[0;31mValueError\u001b[0m                                Traceback (most recent call last)",
      "\u001b[0;32m<ipython-input-228-204809e5b403>\u001b[0m in \u001b[0;36m<module>\u001b[0;34m\u001b[0m\n\u001b[0;32m----> 1\u001b[0;31m \u001b[0mgreatstone_rating\u001b[0m\u001b[0;34m=\u001b[0m\u001b[0mrfcl\u001b[0m\u001b[0;34m.\u001b[0m\u001b[0mpredict\u001b[0m\u001b[0;34m(\u001b[0m\u001b[0mx\u001b[0m\u001b[0;34m)\u001b[0m\u001b[0;34m\u001b[0m\u001b[0;34m\u001b[0m\u001b[0m\n\u001b[0m",
      "\u001b[0;32m~/opt/anaconda3/lib/python3.7/site-packages/sklearn/ensemble/forest.py\u001b[0m in \u001b[0;36mpredict\u001b[0;34m(self, X)\u001b[0m\n\u001b[1;32m    543\u001b[0m             \u001b[0mThe\u001b[0m \u001b[0mpredicted\u001b[0m \u001b[0mclasses\u001b[0m\u001b[0;34m.\u001b[0m\u001b[0;34m\u001b[0m\u001b[0;34m\u001b[0m\u001b[0m\n\u001b[1;32m    544\u001b[0m         \"\"\"\n\u001b[0;32m--> 545\u001b[0;31m         \u001b[0mproba\u001b[0m \u001b[0;34m=\u001b[0m \u001b[0mself\u001b[0m\u001b[0;34m.\u001b[0m\u001b[0mpredict_proba\u001b[0m\u001b[0;34m(\u001b[0m\u001b[0mX\u001b[0m\u001b[0;34m)\u001b[0m\u001b[0;34m\u001b[0m\u001b[0;34m\u001b[0m\u001b[0m\n\u001b[0m\u001b[1;32m    546\u001b[0m \u001b[0;34m\u001b[0m\u001b[0m\n\u001b[1;32m    547\u001b[0m         \u001b[0;32mif\u001b[0m \u001b[0mself\u001b[0m\u001b[0;34m.\u001b[0m\u001b[0mn_outputs_\u001b[0m \u001b[0;34m==\u001b[0m \u001b[0;36m1\u001b[0m\u001b[0;34m:\u001b[0m\u001b[0;34m\u001b[0m\u001b[0;34m\u001b[0m\u001b[0m\n",
      "\u001b[0;32m~/opt/anaconda3/lib/python3.7/site-packages/sklearn/ensemble/forest.py\u001b[0m in \u001b[0;36mpredict_proba\u001b[0;34m(self, X)\u001b[0m\n\u001b[1;32m    586\u001b[0m         \u001b[0mcheck_is_fitted\u001b[0m\u001b[0;34m(\u001b[0m\u001b[0mself\u001b[0m\u001b[0;34m,\u001b[0m \u001b[0;34m'estimators_'\u001b[0m\u001b[0;34m)\u001b[0m\u001b[0;34m\u001b[0m\u001b[0;34m\u001b[0m\u001b[0m\n\u001b[1;32m    587\u001b[0m         \u001b[0;31m# Check data\u001b[0m\u001b[0;34m\u001b[0m\u001b[0;34m\u001b[0m\u001b[0;34m\u001b[0m\u001b[0m\n\u001b[0;32m--> 588\u001b[0;31m         \u001b[0mX\u001b[0m \u001b[0;34m=\u001b[0m \u001b[0mself\u001b[0m\u001b[0;34m.\u001b[0m\u001b[0m_validate_X_predict\u001b[0m\u001b[0;34m(\u001b[0m\u001b[0mX\u001b[0m\u001b[0;34m)\u001b[0m\u001b[0;34m\u001b[0m\u001b[0;34m\u001b[0m\u001b[0m\n\u001b[0m\u001b[1;32m    589\u001b[0m \u001b[0;34m\u001b[0m\u001b[0m\n\u001b[1;32m    590\u001b[0m         \u001b[0;31m# Assign chunk of trees to jobs\u001b[0m\u001b[0;34m\u001b[0m\u001b[0;34m\u001b[0m\u001b[0;34m\u001b[0m\u001b[0m\n",
      "\u001b[0;32m~/opt/anaconda3/lib/python3.7/site-packages/sklearn/ensemble/forest.py\u001b[0m in \u001b[0;36m_validate_X_predict\u001b[0;34m(self, X)\u001b[0m\n\u001b[1;32m    357\u001b[0m                                  \"call `fit` before exploiting the model.\")\n\u001b[1;32m    358\u001b[0m \u001b[0;34m\u001b[0m\u001b[0m\n\u001b[0;32m--> 359\u001b[0;31m         \u001b[0;32mreturn\u001b[0m \u001b[0mself\u001b[0m\u001b[0;34m.\u001b[0m\u001b[0mestimators_\u001b[0m\u001b[0;34m[\u001b[0m\u001b[0;36m0\u001b[0m\u001b[0;34m]\u001b[0m\u001b[0;34m.\u001b[0m\u001b[0m_validate_X_predict\u001b[0m\u001b[0;34m(\u001b[0m\u001b[0mX\u001b[0m\u001b[0;34m,\u001b[0m \u001b[0mcheck_input\u001b[0m\u001b[0;34m=\u001b[0m\u001b[0;32mTrue\u001b[0m\u001b[0;34m)\u001b[0m\u001b[0;34m\u001b[0m\u001b[0;34m\u001b[0m\u001b[0m\n\u001b[0m\u001b[1;32m    360\u001b[0m \u001b[0;34m\u001b[0m\u001b[0m\n\u001b[1;32m    361\u001b[0m     \u001b[0;34m@\u001b[0m\u001b[0mproperty\u001b[0m\u001b[0;34m\u001b[0m\u001b[0;34m\u001b[0m\u001b[0m\n",
      "\u001b[0;32m~/opt/anaconda3/lib/python3.7/site-packages/sklearn/tree/tree.py\u001b[0m in \u001b[0;36m_validate_X_predict\u001b[0;34m(self, X, check_input)\u001b[0m\n\u001b[1;32m    389\u001b[0m         \u001b[0;34m\"\"\"Validate X whenever one tries to predict, apply, predict_proba\"\"\"\u001b[0m\u001b[0;34m\u001b[0m\u001b[0;34m\u001b[0m\u001b[0m\n\u001b[1;32m    390\u001b[0m         \u001b[0;32mif\u001b[0m \u001b[0mcheck_input\u001b[0m\u001b[0;34m:\u001b[0m\u001b[0;34m\u001b[0m\u001b[0;34m\u001b[0m\u001b[0m\n\u001b[0;32m--> 391\u001b[0;31m             \u001b[0mX\u001b[0m \u001b[0;34m=\u001b[0m \u001b[0mcheck_array\u001b[0m\u001b[0;34m(\u001b[0m\u001b[0mX\u001b[0m\u001b[0;34m,\u001b[0m \u001b[0mdtype\u001b[0m\u001b[0;34m=\u001b[0m\u001b[0mDTYPE\u001b[0m\u001b[0;34m,\u001b[0m \u001b[0maccept_sparse\u001b[0m\u001b[0;34m=\u001b[0m\u001b[0;34m\"csr\"\u001b[0m\u001b[0;34m)\u001b[0m\u001b[0;34m\u001b[0m\u001b[0;34m\u001b[0m\u001b[0m\n\u001b[0m\u001b[1;32m    392\u001b[0m             if issparse(X) and (X.indices.dtype != np.intc or\n\u001b[1;32m    393\u001b[0m                                 X.indptr.dtype != np.intc):\n",
      "\u001b[0;32m~/opt/anaconda3/lib/python3.7/site-packages/sklearn/utils/validation.py\u001b[0m in \u001b[0;36mcheck_array\u001b[0;34m(array, accept_sparse, accept_large_sparse, dtype, order, copy, force_all_finite, ensure_2d, allow_nd, ensure_min_samples, ensure_min_features, warn_on_dtype, estimator)\u001b[0m\n\u001b[1;32m    540\u001b[0m         \u001b[0;32mif\u001b[0m \u001b[0mforce_all_finite\u001b[0m\u001b[0;34m:\u001b[0m\u001b[0;34m\u001b[0m\u001b[0;34m\u001b[0m\u001b[0m\n\u001b[1;32m    541\u001b[0m             _assert_all_finite(array,\n\u001b[0;32m--> 542\u001b[0;31m                                allow_nan=force_all_finite == 'allow-nan')\n\u001b[0m\u001b[1;32m    543\u001b[0m \u001b[0;34m\u001b[0m\u001b[0m\n\u001b[1;32m    544\u001b[0m     \u001b[0;32mif\u001b[0m \u001b[0mensure_min_samples\u001b[0m \u001b[0;34m>\u001b[0m \u001b[0;36m0\u001b[0m\u001b[0;34m:\u001b[0m\u001b[0;34m\u001b[0m\u001b[0;34m\u001b[0m\u001b[0m\n",
      "\u001b[0;32m~/opt/anaconda3/lib/python3.7/site-packages/sklearn/utils/validation.py\u001b[0m in \u001b[0;36m_assert_all_finite\u001b[0;34m(X, allow_nan)\u001b[0m\n\u001b[1;32m     54\u001b[0m                 not allow_nan and not np.isfinite(X).all()):\n\u001b[1;32m     55\u001b[0m             \u001b[0mtype_err\u001b[0m \u001b[0;34m=\u001b[0m \u001b[0;34m'infinity'\u001b[0m \u001b[0;32mif\u001b[0m \u001b[0mallow_nan\u001b[0m \u001b[0;32melse\u001b[0m \u001b[0;34m'NaN, infinity'\u001b[0m\u001b[0;34m\u001b[0m\u001b[0;34m\u001b[0m\u001b[0m\n\u001b[0;32m---> 56\u001b[0;31m             \u001b[0;32mraise\u001b[0m \u001b[0mValueError\u001b[0m\u001b[0;34m(\u001b[0m\u001b[0mmsg_err\u001b[0m\u001b[0;34m.\u001b[0m\u001b[0mformat\u001b[0m\u001b[0;34m(\u001b[0m\u001b[0mtype_err\u001b[0m\u001b[0;34m,\u001b[0m \u001b[0mX\u001b[0m\u001b[0;34m.\u001b[0m\u001b[0mdtype\u001b[0m\u001b[0;34m)\u001b[0m\u001b[0;34m)\u001b[0m\u001b[0;34m\u001b[0m\u001b[0;34m\u001b[0m\u001b[0m\n\u001b[0m\u001b[1;32m     57\u001b[0m     \u001b[0;31m# for object dtype data, we only check for NaNs (GH-13254)\u001b[0m\u001b[0;34m\u001b[0m\u001b[0;34m\u001b[0m\u001b[0;34m\u001b[0m\u001b[0m\n\u001b[1;32m     58\u001b[0m     \u001b[0;32melif\u001b[0m \u001b[0mX\u001b[0m\u001b[0;34m.\u001b[0m\u001b[0mdtype\u001b[0m \u001b[0;34m==\u001b[0m \u001b[0mnp\u001b[0m\u001b[0;34m.\u001b[0m\u001b[0mdtype\u001b[0m\u001b[0;34m(\u001b[0m\u001b[0;34m'object'\u001b[0m\u001b[0;34m)\u001b[0m \u001b[0;32mand\u001b[0m \u001b[0;32mnot\u001b[0m \u001b[0mallow_nan\u001b[0m\u001b[0;34m:\u001b[0m\u001b[0;34m\u001b[0m\u001b[0;34m\u001b[0m\u001b[0m\n",
      "\u001b[0;31mValueError\u001b[0m: Input contains NaN, infinity or a value too large for dtype('float32')."
     ]
    }
   ],
   "source": [
    "\n",
    "greatstone_rating=rfcl.predict(x)"
   ]
  },
  {
   "cell_type": "code",
   "execution_count": 225,
   "metadata": {},
   "outputs": [],
   "source": [
    "greatstone_rating"
   ]
  },
  {
   "cell_type": "code",
   "execution_count": 217,
   "metadata": {},
   "outputs": [],
   "source": [
    "greatstone_rating = pd.DataFrame(greatstone_rating, columns=['greatstone_rating']).to_csv('sample_submissionRFCL3.csv')"
   ]
  },
  {
   "cell_type": "code",
   "execution_count": 162,
   "metadata": {},
   "outputs": [
    {
     "data": {
      "text/plain": [
       "(0.9845714285714285, 0.6222666666666666)"
      ]
     },
     "execution_count": 162,
     "metadata": {},
     "output_type": "execute_result"
    }
   ],
   "source": [
    "#After PCA-RFC\n",
    "rfcl.fit(Xpca_train_new, y_train)\n",
    "rfcl.score(Xpca_train_new, y_train), rfcl.score(Xpca_test_new, y_test)"
   ]
  },
  {
   "cell_type": "code",
   "execution_count": 48,
   "metadata": {},
   "outputs": [
    {
     "data": {
      "text/plain": [
       "{'bootstrap': True,\n",
       " 'class_weight': None,\n",
       " 'criterion': 'gini',\n",
       " 'max_depth': None,\n",
       " 'max_features': 'auto',\n",
       " 'max_leaf_nodes': None,\n",
       " 'min_impurity_decrease': 0.0,\n",
       " 'min_impurity_split': None,\n",
       " 'min_samples_leaf': 1,\n",
       " 'min_samples_split': 2,\n",
       " 'min_weight_fraction_leaf': 0.0,\n",
       " 'n_estimators': 48,\n",
       " 'n_jobs': None,\n",
       " 'oob_score': False,\n",
       " 'random_state': None,\n",
       " 'verbose': 0,\n",
       " 'warm_start': False}"
      ]
     },
     "execution_count": 48,
     "metadata": {},
     "output_type": "execute_result"
    }
   ],
   "source": [
    "rfcl.get_params()"
   ]
  },
  {
   "cell_type": "code",
   "execution_count": 50,
   "metadata": {},
   "outputs": [],
   "source": [
    "from sklearn.preprocessing import StandardScaler \n",
    "from sklearn.decomposition import PCA \n",
    "from sklearn.pipeline import Pipeline \n",
    "from sklearn.model_selection import RandomizedSearchCV\n",
    "from scipy.stats import randint as sp_randint\n"
   ]
  },
  {
   "cell_type": "code",
   "execution_count": 51,
   "metadata": {},
   "outputs": [],
   "source": [
    "param_dist = {\"n_estimators\":[55],\n",
    "              \"max_depth\":[None],\n",
    "              \"max_features\": sp_randint(40,45),\n",
    "              \"min_samples_split\": [16],\n",
    "              \"min_samples_leaf\": [5],\n",
    "              \"bootstrap\": [True, False],\n",
    "              \"criterion\": [ \"entropy\"]}"
   ]
  },
  {
   "cell_type": "code",
   "execution_count": 52,
   "metadata": {},
   "outputs": [],
   "source": [
    "# run randomized search\n",
    "samples = 10  # number of random samples \n",
    "randomCV = RandomizedSearchCV(rfcl, param_distributions=param_dist, n_iter=samples,verbose=10) #default cv = 3"
   ]
  },
  {
   "cell_type": "code",
   "execution_count": 53,
   "metadata": {},
   "outputs": [
    {
     "name": "stderr",
     "output_type": "stream",
     "text": [
      "/Users/chai3/opt/anaconda3/lib/python3.7/site-packages/sklearn/model_selection/_split.py:1978: FutureWarning: The default value of cv will change from 3 to 5 in version 0.22. Specify it explicitly to silence this warning.\n",
      "  warnings.warn(CV_WARNING, FutureWarning)\n",
      "[Parallel(n_jobs=1)]: Using backend SequentialBackend with 1 concurrent workers.\n"
     ]
    },
    {
     "name": "stdout",
     "output_type": "stream",
     "text": [
      "Fitting 3 folds for each of 10 candidates, totalling 30 fits\n",
      "[CV] bootstrap=False, criterion=entropy, max_depth=None, max_features=41, min_samples_leaf=5, min_samples_split=16, n_estimators=55 \n",
      "[CV]  bootstrap=False, criterion=entropy, max_depth=None, max_features=41, min_samples_leaf=5, min_samples_split=16, n_estimators=55, score=0.666, total=  18.9s\n",
      "[CV] bootstrap=False, criterion=entropy, max_depth=None, max_features=41, min_samples_leaf=5, min_samples_split=16, n_estimators=55 \n"
     ]
    },
    {
     "name": "stderr",
     "output_type": "stream",
     "text": [
      "[Parallel(n_jobs=1)]: Done   1 out of   1 | elapsed:   18.9s remaining:    0.0s\n"
     ]
    },
    {
     "name": "stdout",
     "output_type": "stream",
     "text": [
      "[CV]  bootstrap=False, criterion=entropy, max_depth=None, max_features=41, min_samples_leaf=5, min_samples_split=16, n_estimators=55, score=0.674, total=  19.0s\n",
      "[CV] bootstrap=False, criterion=entropy, max_depth=None, max_features=41, min_samples_leaf=5, min_samples_split=16, n_estimators=55 \n"
     ]
    },
    {
     "name": "stderr",
     "output_type": "stream",
     "text": [
      "[Parallel(n_jobs=1)]: Done   2 out of   2 | elapsed:   38.0s remaining:    0.0s\n"
     ]
    },
    {
     "name": "stdout",
     "output_type": "stream",
     "text": [
      "[CV]  bootstrap=False, criterion=entropy, max_depth=None, max_features=41, min_samples_leaf=5, min_samples_split=16, n_estimators=55, score=0.664, total=  19.1s\n",
      "[CV] bootstrap=True, criterion=entropy, max_depth=None, max_features=40, min_samples_leaf=5, min_samples_split=16, n_estimators=55 \n"
     ]
    },
    {
     "name": "stderr",
     "output_type": "stream",
     "text": [
      "[Parallel(n_jobs=1)]: Done   3 out of   3 | elapsed:   57.1s remaining:    0.0s\n"
     ]
    },
    {
     "name": "stdout",
     "output_type": "stream",
     "text": [
      "[CV]  bootstrap=True, criterion=entropy, max_depth=None, max_features=40, min_samples_leaf=5, min_samples_split=16, n_estimators=55, score=0.662, total=  12.0s\n",
      "[CV] bootstrap=True, criterion=entropy, max_depth=None, max_features=40, min_samples_leaf=5, min_samples_split=16, n_estimators=55 \n"
     ]
    },
    {
     "name": "stderr",
     "output_type": "stream",
     "text": [
      "[Parallel(n_jobs=1)]: Done   4 out of   4 | elapsed:  1.2min remaining:    0.0s\n"
     ]
    },
    {
     "name": "stdout",
     "output_type": "stream",
     "text": [
      "[CV]  bootstrap=True, criterion=entropy, max_depth=None, max_features=40, min_samples_leaf=5, min_samples_split=16, n_estimators=55, score=0.656, total=  11.9s\n",
      "[CV] bootstrap=True, criterion=entropy, max_depth=None, max_features=40, min_samples_leaf=5, min_samples_split=16, n_estimators=55 \n"
     ]
    },
    {
     "name": "stderr",
     "output_type": "stream",
     "text": [
      "[Parallel(n_jobs=1)]: Done   5 out of   5 | elapsed:  1.3min remaining:    0.0s\n"
     ]
    },
    {
     "name": "stdout",
     "output_type": "stream",
     "text": [
      "[CV]  bootstrap=True, criterion=entropy, max_depth=None, max_features=40, min_samples_leaf=5, min_samples_split=16, n_estimators=55, score=0.652, total=  12.1s\n",
      "[CV] bootstrap=True, criterion=entropy, max_depth=None, max_features=42, min_samples_leaf=5, min_samples_split=16, n_estimators=55 \n"
     ]
    },
    {
     "name": "stderr",
     "output_type": "stream",
     "text": [
      "[Parallel(n_jobs=1)]: Done   6 out of   6 | elapsed:  1.6min remaining:    0.0s\n"
     ]
    },
    {
     "name": "stdout",
     "output_type": "stream",
     "text": [
      "[CV]  bootstrap=True, criterion=entropy, max_depth=None, max_features=42, min_samples_leaf=5, min_samples_split=16, n_estimators=55, score=0.663, total=  12.5s\n",
      "[CV] bootstrap=True, criterion=entropy, max_depth=None, max_features=42, min_samples_leaf=5, min_samples_split=16, n_estimators=55 \n"
     ]
    },
    {
     "name": "stderr",
     "output_type": "stream",
     "text": [
      "[Parallel(n_jobs=1)]: Done   7 out of   7 | elapsed:  1.8min remaining:    0.0s\n"
     ]
    },
    {
     "name": "stdout",
     "output_type": "stream",
     "text": [
      "[CV]  bootstrap=True, criterion=entropy, max_depth=None, max_features=42, min_samples_leaf=5, min_samples_split=16, n_estimators=55, score=0.659, total=  12.6s\n",
      "[CV] bootstrap=True, criterion=entropy, max_depth=None, max_features=42, min_samples_leaf=5, min_samples_split=16, n_estimators=55 \n"
     ]
    },
    {
     "name": "stderr",
     "output_type": "stream",
     "text": [
      "[Parallel(n_jobs=1)]: Done   8 out of   8 | elapsed:  2.0min remaining:    0.0s\n"
     ]
    },
    {
     "name": "stdout",
     "output_type": "stream",
     "text": [
      "[CV]  bootstrap=True, criterion=entropy, max_depth=None, max_features=42, min_samples_leaf=5, min_samples_split=16, n_estimators=55, score=0.650, total=  12.6s\n",
      "[CV] bootstrap=False, criterion=entropy, max_depth=None, max_features=44, min_samples_leaf=5, min_samples_split=16, n_estimators=55 \n"
     ]
    },
    {
     "name": "stderr",
     "output_type": "stream",
     "text": [
      "[Parallel(n_jobs=1)]: Done   9 out of   9 | elapsed:  2.2min remaining:    0.0s\n"
     ]
    },
    {
     "name": "stdout",
     "output_type": "stream",
     "text": [
      "[CV]  bootstrap=False, criterion=entropy, max_depth=None, max_features=44, min_samples_leaf=5, min_samples_split=16, n_estimators=55, score=0.668, total=  20.3s\n",
      "[CV] bootstrap=False, criterion=entropy, max_depth=None, max_features=44, min_samples_leaf=5, min_samples_split=16, n_estimators=55 \n",
      "[CV]  bootstrap=False, criterion=entropy, max_depth=None, max_features=44, min_samples_leaf=5, min_samples_split=16, n_estimators=55, score=0.674, total=  20.5s\n",
      "[CV] bootstrap=False, criterion=entropy, max_depth=None, max_features=44, min_samples_leaf=5, min_samples_split=16, n_estimators=55 \n",
      "[CV]  bootstrap=False, criterion=entropy, max_depth=None, max_features=44, min_samples_leaf=5, min_samples_split=16, n_estimators=55, score=0.665, total=  20.6s\n",
      "[CV] bootstrap=True, criterion=entropy, max_depth=None, max_features=43, min_samples_leaf=5, min_samples_split=16, n_estimators=55 \n",
      "[CV]  bootstrap=True, criterion=entropy, max_depth=None, max_features=43, min_samples_leaf=5, min_samples_split=16, n_estimators=55, score=0.659, total=  13.0s\n",
      "[CV] bootstrap=True, criterion=entropy, max_depth=None, max_features=43, min_samples_leaf=5, min_samples_split=16, n_estimators=55 \n",
      "[CV]  bootstrap=True, criterion=entropy, max_depth=None, max_features=43, min_samples_leaf=5, min_samples_split=16, n_estimators=55, score=0.664, total=  12.9s\n",
      "[CV] bootstrap=True, criterion=entropy, max_depth=None, max_features=43, min_samples_leaf=5, min_samples_split=16, n_estimators=55 \n",
      "[CV]  bootstrap=True, criterion=entropy, max_depth=None, max_features=43, min_samples_leaf=5, min_samples_split=16, n_estimators=55, score=0.651, total=  12.9s\n",
      "[CV] bootstrap=True, criterion=entropy, max_depth=None, max_features=40, min_samples_leaf=5, min_samples_split=16, n_estimators=55 \n",
      "[CV]  bootstrap=True, criterion=entropy, max_depth=None, max_features=40, min_samples_leaf=5, min_samples_split=16, n_estimators=55, score=0.657, total=  12.8s\n",
      "[CV] bootstrap=True, criterion=entropy, max_depth=None, max_features=40, min_samples_leaf=5, min_samples_split=16, n_estimators=55 \n",
      "[CV]  bootstrap=True, criterion=entropy, max_depth=None, max_features=40, min_samples_leaf=5, min_samples_split=16, n_estimators=55, score=0.656, total=  12.0s\n",
      "[CV] bootstrap=True, criterion=entropy, max_depth=None, max_features=40, min_samples_leaf=5, min_samples_split=16, n_estimators=55 \n",
      "[CV]  bootstrap=True, criterion=entropy, max_depth=None, max_features=40, min_samples_leaf=5, min_samples_split=16, n_estimators=55, score=0.655, total=  12.0s\n",
      "[CV] bootstrap=True, criterion=entropy, max_depth=None, max_features=44, min_samples_leaf=5, min_samples_split=16, n_estimators=55 \n",
      "[CV]  bootstrap=True, criterion=entropy, max_depth=None, max_features=44, min_samples_leaf=5, min_samples_split=16, n_estimators=55, score=0.659, total=  13.2s\n",
      "[CV] bootstrap=True, criterion=entropy, max_depth=None, max_features=44, min_samples_leaf=5, min_samples_split=16, n_estimators=55 \n",
      "[CV]  bootstrap=True, criterion=entropy, max_depth=None, max_features=44, min_samples_leaf=5, min_samples_split=16, n_estimators=55, score=0.661, total=  13.2s\n",
      "[CV] bootstrap=True, criterion=entropy, max_depth=None, max_features=44, min_samples_leaf=5, min_samples_split=16, n_estimators=55 \n",
      "[CV]  bootstrap=True, criterion=entropy, max_depth=None, max_features=44, min_samples_leaf=5, min_samples_split=16, n_estimators=55, score=0.649, total=  14.0s\n",
      "[CV] bootstrap=True, criterion=entropy, max_depth=None, max_features=40, min_samples_leaf=5, min_samples_split=16, n_estimators=55 \n",
      "[CV]  bootstrap=True, criterion=entropy, max_depth=None, max_features=40, min_samples_leaf=5, min_samples_split=16, n_estimators=55, score=0.654, total=  13.3s\n",
      "[CV] bootstrap=True, criterion=entropy, max_depth=None, max_features=40, min_samples_leaf=5, min_samples_split=16, n_estimators=55 \n",
      "[CV]  bootstrap=True, criterion=entropy, max_depth=None, max_features=40, min_samples_leaf=5, min_samples_split=16, n_estimators=55, score=0.661, total=  15.0s\n",
      "[CV] bootstrap=True, criterion=entropy, max_depth=None, max_features=40, min_samples_leaf=5, min_samples_split=16, n_estimators=55 \n",
      "[CV]  bootstrap=True, criterion=entropy, max_depth=None, max_features=40, min_samples_leaf=5, min_samples_split=16, n_estimators=55, score=0.653, total=  13.6s\n",
      "[CV] bootstrap=True, criterion=entropy, max_depth=None, max_features=41, min_samples_leaf=5, min_samples_split=16, n_estimators=55 \n",
      "[CV]  bootstrap=True, criterion=entropy, max_depth=None, max_features=41, min_samples_leaf=5, min_samples_split=16, n_estimators=55, score=0.661, total=  14.5s\n",
      "[CV] bootstrap=True, criterion=entropy, max_depth=None, max_features=41, min_samples_leaf=5, min_samples_split=16, n_estimators=55 \n",
      "[CV]  bootstrap=True, criterion=entropy, max_depth=None, max_features=41, min_samples_leaf=5, min_samples_split=16, n_estimators=55, score=0.659, total=  14.2s\n",
      "[CV] bootstrap=True, criterion=entropy, max_depth=None, max_features=41, min_samples_leaf=5, min_samples_split=16, n_estimators=55 \n",
      "[CV]  bootstrap=True, criterion=entropy, max_depth=None, max_features=41, min_samples_leaf=5, min_samples_split=16, n_estimators=55, score=0.655, total=  14.9s\n",
      "[CV] bootstrap=False, criterion=entropy, max_depth=None, max_features=41, min_samples_leaf=5, min_samples_split=16, n_estimators=55 \n",
      "[CV]  bootstrap=False, criterion=entropy, max_depth=None, max_features=41, min_samples_leaf=5, min_samples_split=16, n_estimators=55, score=0.665, total=  19.8s\n",
      "[CV] bootstrap=False, criterion=entropy, max_depth=None, max_features=41, min_samples_leaf=5, min_samples_split=16, n_estimators=55 \n",
      "[CV]  bootstrap=False, criterion=entropy, max_depth=None, max_features=41, min_samples_leaf=5, min_samples_split=16, n_estimators=55, score=0.674, total=  19.9s\n",
      "[CV] bootstrap=False, criterion=entropy, max_depth=None, max_features=41, min_samples_leaf=5, min_samples_split=16, n_estimators=55 \n",
      "[CV]  bootstrap=False, criterion=entropy, max_depth=None, max_features=41, min_samples_leaf=5, min_samples_split=16, n_estimators=55, score=0.664, total=  20.2s\n"
     ]
    },
    {
     "name": "stderr",
     "output_type": "stream",
     "text": [
      "[Parallel(n_jobs=1)]: Done  30 out of  30 | elapsed:  7.6min finished\n"
     ]
    },
    {
     "name": "stdout",
     "output_type": "stream",
     "text": [
      "{'bootstrap': False, 'criterion': 'entropy', 'max_depth': None, 'max_features': 44, 'min_samples_leaf': 5, 'min_samples_split': 16, 'n_estimators': 55}\n"
     ]
    }
   ],
   "source": [
    "randomCV.fit(x_train, y_train)\n",
    " \n",
    "print(randomCV.best_params_)"
   ]
  },
  {
   "cell_type": "code",
   "execution_count": 54,
   "metadata": {},
   "outputs": [
    {
     "name": "stdout",
     "output_type": "stream",
     "text": [
      " Best cross-validation accuracy: 0.67\n",
      " Best parameters:  {'bootstrap': False, 'criterion': 'entropy', 'max_depth': None, 'max_features': 44, 'min_samples_leaf': 5, 'min_samples_split': 16, 'n_estimators': 55}\n",
      " Test set accuracy: 0.64\n"
     ]
    }
   ],
   "source": [
    "print(\" Best cross-validation accuracy: {:.2f}\". format( randomCV.best_score_)) \n",
    "print(\" Best parameters: \", randomCV.best_params_) \n",
    "print(\" Test set accuracy: {:.2f}\". format( randomCV.score( x_test, y_test)))"
   ]
  },
  {
   "cell_type": "code",
   "execution_count": 158,
   "metadata": {},
   "outputs": [
    {
     "name": "stdout",
     "output_type": "stream",
     "text": [
      " Best cross-validation accuracy: 0.52\n",
      " Best parameters:  {'bootstrap': False, 'criterion': 'entropy', 'max_depth': 5, 'max_features': 41, 'min_samples_leaf': 5, 'min_samples_split': 16, 'n_estimators': 68}\n",
      " Test set accuracy: 0.47\n"
     ]
    }
   ],
   "source": [
    "print(\" Best cross-validation accuracy: {:.2f}\". format( randomCV.best_score_)) \n",
    "print(\" Best parameters: \", randomCV.best_params_) \n",
    "print(\" Test set accuracy: {:.2f}\". format( randomCV.score( x_test, y_test)))"
   ]
  },
  {
   "cell_type": "code",
   "execution_count": 145,
   "metadata": {},
   "outputs": [
    {
     "name": "stdout",
     "output_type": "stream",
     "text": [
      " Best cross-validation accuracy: 0.67\n",
      " Best parameters:  {'bootstrap': False, 'criterion': 'entropy', 'max_depth': None, 'max_features': 43, 'min_samples_leaf': 5, 'min_samples_split': 16, 'n_estimators': 55}\n",
      " Test set accuracy: 0.64\n"
     ]
    }
   ],
   "source": [
    "print(\" Best cross-validation accuracy: {:.2f}\". format( randomCV.best_score_)) \n",
    "print(\" Best parameters: \", randomCV.best_params_) \n",
    "print(\" Test set accuracy: {:.2f}\". format( randomCV.score( x_test, y_test)))"
   ]
  },
  {
   "cell_type": "code",
   "execution_count": 141,
   "metadata": {},
   "outputs": [
    {
     "name": "stdout",
     "output_type": "stream",
     "text": [
      " Best cross-validation accuracy: 0.66\n",
      " Best parameters:  {'bootstrap': False, 'criterion': 'gini', 'max_depth': None, 'max_features': 46, 'min_samples_leaf': 3, 'min_samples_split': 17, 'n_estimators': 70}\n",
      " Test set accuracy: 0.63\n"
     ]
    }
   ],
   "source": [
    "print(\" Best cross-validation accuracy: {:.2f}\". format( randomCV.best_score_)) \n",
    "print(\" Best parameters: \", randomCV.best_params_) \n",
    "print(\" Test set accuracy: {:.2f}\". format( randomCV.score( x_test, y_test)))"
   ]
  },
  {
   "cell_type": "code",
   "execution_count": 137,
   "metadata": {},
   "outputs": [
    {
     "name": "stdout",
     "output_type": "stream",
     "text": [
      " Best cross-validation accuracy: 0.66\n",
      " Best parameters:  {'bootstrap': False, 'criterion': 'entropy', 'max_depth': None, 'max_features': 43, 'min_samples_leaf': 9, 'min_samples_split': 27, 'n_estimators': 40}\n",
      " Test set accuracy: 0.63\n"
     ]
    }
   ],
   "source": [
    "print(\" Best cross-validation accuracy: {:.2f}\". format( randomCV.best_score_)) \n",
    "print(\" Best parameters: \", randomCV.best_params_) \n",
    "print(\" Test set accuracy: {:.2f}\". format( randomCV.score( x_test, y_test)))"
   ]
  },
  {
   "cell_type": "code",
   "execution_count": 128,
   "metadata": {},
   "outputs": [
    {
     "name": "stdout",
     "output_type": "stream",
     "text": [
      " Best cross-validation accuracy: 0.67\n",
      " Best parameters:  {'bootstrap': False, 'criterion': 'entropy', 'max_depth': None, 'max_features': 37, 'min_samples_leaf': 5, 'min_samples_split': 16, 'n_estimators': 55}\n",
      " Test set accuracy: 0.64\n"
     ]
    }
   ],
   "source": [
    "print(\" Best cross-validation accuracy: {:.2f}\". format( randomCV.best_score_)) \n",
    "print(\" Best parameters: \", randomCV.best_params_) \n",
    "print(\" Test set accuracy: {:.2f}\". format( randomCV.score( x_test, y_test)))"
   ]
  },
  {
   "cell_type": "code",
   "execution_count": 117,
   "metadata": {},
   "outputs": [],
   "source": [
    "# from sklearn.model_selection import GridSearchCV\n",
    "# #pipe_svc = Pipeline([('scl', StandardScaler()), ('pca', PCA()), ('svc', SVC())]) \n",
    "# pipe_svc = Pipeline([('scl', StandardScaler()),('rfcl', RandomForestClassifier())]) \n",
    "# #param_grid = {'pca__n_components':[65],'svc__C': [0.001, 0.01, 0.1, 1,5,6,7,8,9,10], 'svc__gamma': [0.001,0.01,0.06,0.5,0.1,1,2,3,4,10], 'svc__kernel':['rbf','poly']} \n",
    "\n",
    "# param_grid = {'svc__C': [5,10,14], 'svc__gamma': [0.05,0.06,0.07,], 'svc__kernel':['rbf']} \n",
    "\n",
    "# grid = GridSearchCV( pipe_svc , param_grid = param_grid, cv = 5,verbose=10) \n",
    "\n",
    "# grid.fit( x_train, y_train) \n",
    "\n",
    "# print(\" Best cross-validation accuracy: {:.2f}\". format( grid.best_score_)) \n",
    "# print(\" Best parameters: \", grid.best_params_) \n",
    "# print(\" Test set accuracy: {:.2f}\". format( grid.score( x_cv, y_cv)))"
   ]
  },
  {
   "cell_type": "code",
   "execution_count": 129,
   "metadata": {},
   "outputs": [],
   "source": [
    "greatstone_rating = rfcl.predict(x_test)"
   ]
  },
  {
   "cell_type": "code",
   "execution_count": 130,
   "metadata": {},
   "outputs": [
    {
     "name": "stdout",
     "output_type": "stream",
     "text": [
      "[5 5 4 ... 3 3 2]\n"
     ]
    }
   ],
   "source": [
    "print (greatstone_rating)"
   ]
  },
  {
   "cell_type": "code",
   "execution_count": null,
   "metadata": {},
   "outputs": [],
   "source": []
  },
  {
   "cell_type": "code",
   "execution_count": 131,
   "metadata": {},
   "outputs": [],
   "source": [
    "greatstone_rating = pd.DataFrame(greatstone_rating, columns=['greatstone_rating']).to_csv('sample_submissionRFCL.csv')"
   ]
  },
  {
   "cell_type": "code",
   "execution_count": null,
   "metadata": {},
   "outputs": [],
   "source": []
  }
 ],
 "metadata": {
  "kernelspec": {
   "display_name": "Python 3",
   "language": "python",
   "name": "python3"
  },
  "language_info": {
   "codemirror_mode": {
    "name": "ipython",
    "version": 3
   },
   "file_extension": ".py",
   "mimetype": "text/x-python",
   "name": "python",
   "nbconvert_exporter": "python",
   "pygments_lexer": "ipython3",
   "version": "3.7.7"
  }
 },
 "nbformat": 4,
 "nbformat_minor": 2
}
